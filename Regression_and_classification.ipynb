{
  "nbformat": 4,
  "nbformat_minor": 0,
  "metadata": {
    "kernelspec": {
      "display_name": "Python 3",
      "language": "python",
      "name": "python3"
    },
    "language_info": {
      "codemirror_mode": {
        "name": "ipython",
        "version": 3
      },
      "file_extension": ".py",
      "mimetype": "text/x-python",
      "name": "python",
      "nbconvert_exporter": "python",
      "pygments_lexer": "ipython3",
      "version": "3.7.3"
    },
    "colab": {
      "name": "Regression and classification.ipynb",
      "provenance": []
    }
  },
  "cells": [
    {
      "cell_type": "code",
      "metadata": {
        "id": "RJUWd_fhlDNb"
      },
      "source": [
        "## Authors: Lina Hammargren and Wei Wu, Assignment 2"
      ],
      "execution_count": null,
      "outputs": []
    },
    {
      "cell_type": "code",
      "metadata": {
        "id": "GREb5U_4lDNe"
      },
      "source": [
        "################ QUESTION 1 ################"
      ],
      "execution_count": null,
      "outputs": []
    },
    {
      "cell_type": "code",
      "metadata": {
        "id": "sJb0zkhDlDNl",
        "outputId": "f0ef119c-74d9-4f9e-ffc6-10c9b95cb5fe"
      },
      "source": [
        "import pandas as pd\n",
        "import numpy as np\n",
        "import matplotlib.pyplot as plt\n",
        "from sklearn import linear_model\n",
        "from sklearn.linear_model import LinearRegression\n",
        "\n",
        "df=pd.read_csv(\"data_assignment2.csv\")\n",
        "\n",
        "df_len=len(df)\n",
        "print(df_len) # 56 data points"
      ],
      "execution_count": null,
      "outputs": [
        {
          "name": "stdout",
          "output_type": "stream",
          "text": [
            "56\n"
          ]
        }
      ]
    },
    {
      "cell_type": "code",
      "metadata": {
        "id": "C5kkmor7lDNn",
        "outputId": "fc5682a6-4963-40b9-83e1-18fafc5638e4"
      },
      "source": [
        "print(df.head())\n",
        "#print(df)"
      ],
      "execution_count": null,
      "outputs": [
        {
          "name": "stdout",
          "output_type": "stream",
          "text": [
            "   ID  Living_area  Rooms  Land_size  Biarea  Age  Selling_price\n",
            "0   1          104    5.0      271.0    25.0   33        4600000\n",
            "1   2           99    5.0     1506.0     6.0   88        4450000\n",
            "2   3          133    6.0      486.0     NaN   44        4900000\n",
            "3   4          175    7.0      728.0     NaN   14        6625000\n",
            "4   5          118    6.0     1506.0     NaN   29        4600000\n"
          ]
        }
      ]
    },
    {
      "cell_type": "code",
      "metadata": {
        "id": "a9eUOeqrlDNp",
        "outputId": "de3fc074-6664-4a85-ba37-03c24888a4ea"
      },
      "source": [
        "plt.scatter(df['Living_area'], df['Selling_price'])\n",
        "plt.xlabel(\"Living area\")\n",
        "plt.ylabel(\"Selling price\")\n",
        "plt.title(\"Scatter plot (all data points)\")\n",
        "plt.show\n",
        "\n"
      ],
      "execution_count": null,
      "outputs": [
        {
          "data": {
            "text/plain": [
              "<function matplotlib.pyplot.show(*args, **kw)>"
            ]
          },
          "execution_count": 78,
          "metadata": {},
          "output_type": "execute_result"
        },
        {
          "data": {
            "image/png": "[encoded data removed]",
            "text/plain": [
              "<Figure size 432x288 with 1 Axes>"
            ]
          },
          "metadata": {
            "needs_background": "light"
          },
          "output_type": "display_data"
        }
      ]
    },
    {
      "cell_type": "code",
      "metadata": {
        "id": "jISIMvwIlDNq"
      },
      "source": [
        "## Question 1 a\n",
        "\n",
        "y=np.array(df['Selling_price'])\n",
        "x=np.array([[i] for i in df['Living_area']])"
      ],
      "execution_count": null,
      "outputs": []
    },
    {
      "cell_type": "code",
      "metadata": {
        "id": "cLPVX6C_lDNr"
      },
      "source": [
        "# Linear regression model\n",
        "model = LinearRegression().fit(x, y)"
      ],
      "execution_count": null,
      "outputs": []
    },
    {
      "cell_type": "code",
      "metadata": {
        "scrolled": true,
        "id": "9teyVRTolDNt",
        "outputId": "30c2b01e-8537-4140-cecb-318c919ce795"
      },
      "source": [
        "# Plot of the regression line\n",
        "xfit = np.linspace(0, df['Living_area'].max()+10, 1000)\n",
        "yfit = model.predict(xfit[:, np.newaxis])\n",
        "\n",
        "plt.scatter(x, y)\n",
        "plt.plot(xfit, yfit)\n",
        "plt.title(\"Data points with fitted linear regression line\")\n",
        "plt.xlabel(\"Living area\")\n",
        "plt.ylabel(\"Selling price\")"
      ],
      "execution_count": null,
      "outputs": [
        {
          "data": {
            "text/plain": [
              "Text(0, 0.5, 'Selling price')"
            ]
          },
          "execution_count": 81,
          "metadata": {},
          "output_type": "execute_result"
        },
        {
          "data": {
            "image/png": "[encoded data removed]",
            "text/plain": [
              "<Figure size 432x288 with 1 Axes>"
            ]
          },
          "metadata": {
            "needs_background": "light"
          },
          "output_type": "display_data"
        }
      ]
    },
    {
      "cell_type": "code",
      "metadata": {
        "id": "xEUDdjiylDNt",
        "outputId": "01cfdc3c-f128-4059-bd7a-95dac442a364"
      },
      "source": [
        "## Question 1 b\n",
        "\n",
        "# Intercept\n",
        "intercept=model.intercept_\n",
        "\n",
        "# Slope\n",
        "slope=model.coef_\n",
        "\n",
        "print(\"Intercept: \"+intercept.astype(str))\n",
        "print(\"Slope: \"+slope[0].astype(str))"
      ],
      "execution_count": null,
      "outputs": [
        {
          "name": "stdout",
          "output_type": "stream",
          "text": [
            "Intercept: 2220603.243355869\n",
            "Slope: 19370.13854733158\n"
          ]
        }
      ]
    },
    {
      "cell_type": "code",
      "metadata": {
        "id": "8Y7v5PSblDNu",
        "outputId": "435330a2-5008-4665-e0e7-7f5c44b7183d"
      },
      "source": [
        "## Question 1 c\n",
        "\n",
        "preds=[[i, model.predict([[i]])[0]] for i in [100, 150, 200]]\n",
        "\n",
        "# just creates Latex table code\n",
        "df=pd.DataFrame(preds)\n",
        "df.to_latex(index=False)\n",
        "\n",
        "print(preds)"
      ],
      "execution_count": null,
      "outputs": [
        {
          "name": "stdout",
          "output_type": "stream",
          "text": [
            "[[100, 4157617.0980890268], [150, 5126124.025455605], [200, 6094630.952822184]]\n"
          ]
        }
      ]
    },
    {
      "cell_type": "code",
      "metadata": {
        "id": "1TIRVo2RlDNv",
        "outputId": "232cfd6c-379f-4159-eee6-04c8fa67a296"
      },
      "source": [
        "## Question 1 d (residual plot)\n",
        "ypred = model.predict(x)\n",
        "residuals=y-ypred\n",
        "residuals\n",
        "\n",
        "# Residual plot\n",
        "plt.scatter(x, residuals)\n",
        "plt.plot(np.linspace(50, 250, 1000), np.zeros(1000),'--', linewidth=0.5, c='red')\n",
        "plt.title(\"Residual plot\")\n",
        "plt.show()\n",
        "\n",
        "print(\"Looking at the plot we can see that the residuals are not horizontally evenly distributed around the line at 0. There seems to be at least two outliers.\")"
      ],
      "execution_count": null,
      "outputs": [
        {
          "data": {
            "image/png": "[encoded data removed]",
            "text/plain": [
              "<Figure size 432x288 with 1 Axes>"
            ]
          },
          "metadata": {
            "needs_background": "light"
          },
          "output_type": "display_data"
        },
        {
          "name": "stdout",
          "output_type": "stream",
          "text": [
            "Looking at the plot we can see that the residuals are not horizontally evenly distributed around the line at 0. There seems to be at least two outliers.\n"
          ]
        }
      ]
    },
    {
      "cell_type": "code",
      "metadata": {
        "id": "worz42sglDNv",
        "outputId": "3ebe3492-c510-4a63-aa09-01ac6617b38e"
      },
      "source": [
        "## Now we try again removing the two outliers\n",
        "\n",
        "df2=pd.read_csv(\"data_assignment2.csv\")\n",
        "\n",
        "# find the two outliers\n",
        "outliers=np.where(residuals<-3000000)\n",
        "x_mod=df2['Living_area'].drop(outliers[0], axis=0)\n",
        "y_mod=df2['Selling_price'].drop(outliers[0], axis=0)\n",
        "x_mod=np.array([[i] for i in x_mod])\n",
        "y_mod=np.array(y_mod)\n",
        "plt.scatter(x_mod, y_mod)\n",
        "plt.title(\"Data points (removed outliers)\")\n",
        "plt.xlabel(\"Living area\")\n",
        "plt.ylabel(\"Selling price\")\n",
        "plt.show()"
      ],
      "execution_count": null,
      "outputs": [
        {
          "data": {
            "image/png": "[encoded data removed]",
            "text/plain": [
              "<Figure size 432x288 with 1 Axes>"
            ]
          },
          "metadata": {
            "needs_background": "light"
          },
          "output_type": "display_data"
        }
      ]
    },
    {
      "cell_type": "code",
      "metadata": {
        "id": "ORLuJhtalDNx",
        "outputId": "b457e556-c66d-425c-9d3b-682e11344705"
      },
      "source": [
        "# Plot of the regression line\n",
        "xfit2 = np.linspace(0, x_mod.max()+10, 1000)\n",
        "yfit2 = model.predict(xfit2[:, np.newaxis])\n",
        "\n",
        "plt.scatter(x_mod, y_mod)\n",
        "plt.plot(xfit2, yfit2)\n",
        "plt.title(\"Data points with fitted linear regression line (removed outliers)\")\n",
        "plt.xlabel(\"Living area\")\n",
        "plt.ylabel(\"Selling price\")"
      ],
      "execution_count": null,
      "outputs": [
        {
          "data": {
            "text/plain": [
              "Text(0, 0.5, 'Selling price')"
            ]
          },
          "execution_count": 86,
          "metadata": {},
          "output_type": "execute_result"
        },
        {
          "data": {
            "image/png": "[encoded data removed]",
            "text/plain": [
              "<Figure size 432x288 with 1 Axes>"
            ]
          },
          "metadata": {
            "needs_background": "light"
          },
          "output_type": "display_data"
        }
      ]
    },
    {
      "cell_type": "code",
      "metadata": {
        "id": "_6B_R--klDNy",
        "outputId": "d541750e-22e9-4fb4-c61b-c97e22ca02ad"
      },
      "source": [
        "## Question 1 b\n",
        "\n",
        "# Linear regression model\n",
        "model2 = LinearRegression().fit(x_mod, y_mod)\n",
        "\n",
        "# Intercept\n",
        "intercept2=model2.intercept_\n",
        "\n",
        "# Slope\n",
        "slope2=model2.coef_\n",
        "\n",
        "print(\"Intercept: \"+intercept2.astype(str))\n",
        "print(\"Slope: \"+slope2[0].astype(str))"
      ],
      "execution_count": null,
      "outputs": [
        {
          "name": "stdout",
          "output_type": "stream",
          "text": [
            "Intercept: 1809821.2159409611\n",
            "Slope: 23597.794749444976\n"
          ]
        }
      ]
    },
    {
      "cell_type": "code",
      "metadata": {
        "id": "NAq95a19lDNy",
        "outputId": "9e28e716-ae4d-469c-c647-5599e20a0a4d"
      },
      "source": [
        "## Question 1 c\n",
        "\n",
        "preds=[[i, model2.predict([[i]])[0]] for i in [100, 150, 200]]\n",
        "\n",
        "# just creates Latex table code\n",
        "df=pd.DataFrame(preds)\n",
        "df.to_latex(index=False)\n",
        "preds"
      ],
      "execution_count": null,
      "outputs": [
        {
          "data": {
            "text/plain": [
              "[[100, 4169600.6908854586],\n",
              " [150, 5349490.428357707],\n",
              " [200, 6529380.1658299565]]"
            ]
          },
          "execution_count": 88,
          "metadata": {},
          "output_type": "execute_result"
        }
      ]
    },
    {
      "cell_type": "code",
      "metadata": {
        "id": "etXCioTrlDNy",
        "outputId": "655d8af4-105a-4518-8510-176612042ec4"
      },
      "source": [
        "## Question 1 d (residual plot)\n",
        "ypred = model.predict(x_mod)\n",
        "residuals=y_mod-ypred\n",
        "residuals\n",
        "\n",
        "# Residual plot\n",
        "plt.scatter(x_mod, residuals)\n",
        "plt.plot(np.linspace(50, 250, 1000), np.zeros(1000),'--', linewidth=0.5, c='red')\n",
        "plt.title(\"Residual plot (removed outliers)\")\n",
        "plt.show()"
      ],
      "execution_count": null,
      "outputs": [
        {
          "data": {
            "image/png": "[encoded data removed]",
            "text/plain": [
              "<Figure size 432x288 with 1 Axes>"
            ]
          },
          "metadata": {
            "needs_background": "light"
          },
          "output_type": "display_data"
        }
      ]
    },
    {
      "cell_type": "code",
      "metadata": {
        "id": "G8kjye8-lDN5"
      },
      "source": [
        ""
      ],
      "execution_count": null,
      "outputs": []
    },
    {
      "cell_type": "code",
      "metadata": {
        "id": "pnbQ8yKElDN6"
      },
      "source": [
        "################ QUESTION 2 ################"
      ],
      "execution_count": null,
      "outputs": []
    },
    {
      "cell_type": "code",
      "metadata": {
        "id": "EAFeHz9xlDN7"
      },
      "source": [
        "from sklearn.datasets import load_iris\n",
        "from sklearn import svm, datasets\n",
        "from sklearn.linear_model import LogisticRegression\n",
        "from sklearn.metrics import classification_report, confusion_matrix\n",
        "from sklearn.model_selection import train_test_split\n",
        "iris = load_iris()"
      ],
      "execution_count": null,
      "outputs": []
    },
    {
      "cell_type": "code",
      "metadata": {
        "id": "w8-E9_QLlDN8"
      },
      "source": [
        "# Question a: Use a confusion matrix to evaluate the use of logistic regression to classify the iris data set."
      ],
      "execution_count": null,
      "outputs": []
    },
    {
      "cell_type": "code",
      "metadata": {
        "id": "7jPLp6LSlDN8",
        "outputId": "ba03568d-e3dc-40c9-8fc1-9d5fc3946e34"
      },
      "source": [
        "X = iris.data\n",
        "y = iris.target\n",
        "print(iris)"
      ],
      "execution_count": null,
      "outputs": [
        {
          "name": "stdout",
          "output_type": "stream",
          "text": [
            "{'data': array([[5.1, 3.5, 1.4, 0.2],\n",
            "       [4.9, 3. , 1.4, 0.2],\n",
            "       [4.7, 3.2, 1.3, 0.2],\n",
            "       [4.6, 3.1, 1.5, 0.2],\n",
            "       [5. , 3.6, 1.4, 0.2],\n",
            "       [5.4, 3.9, 1.7, 0.4],\n",
            "       [4.6, 3.4, 1.4, 0.3],\n",
            "       [5. , 3.4, 1.5, 0.2],\n",
            "       [4.4, 2.9, 1.4, 0.2],\n",
            "       [4.9, 3.1, 1.5, 0.1],\n",
            "       [5.4, 3.7, 1.5, 0.2],\n",
            "       [4.8, 3.4, 1.6, 0.2],\n",
            "       [4.8, 3. , 1.4, 0.1],\n",
            "       [4.3, 3. , 1.1, 0.1],\n",
            "       [5.8, 4. , 1.2, 0.2],\n",
            "       [5.7, 4.4, 1.5, 0.4],\n",
            "       [5.4, 3.9, 1.3, 0.4],\n",
            "       [5.1, 3.5, 1.4, 0.3],\n",
            "       [5.7, 3.8, 1.7, 0.3],\n",
            "       [5.1, 3.8, 1.5, 0.3],\n",
            "       [5.4, 3.4, 1.7, 0.2],\n",
            "       [5.1, 3.7, 1.5, 0.4],\n",
            "       [4.6, 3.6, 1. , 0.2],\n",
            "       [5.1, 3.3, 1.7, 0.5],\n",
            "       [4.8, 3.4, 1.9, 0.2],\n",
            "       [5. , 3. , 1.6, 0.2],\n",
            "       [5. , 3.4, 1.6, 0.4],\n",
            "       [5.2, 3.5, 1.5, 0.2],\n",
            "       [5.2, 3.4, 1.4, 0.2],\n",
            "       [4.7, 3.2, 1.6, 0.2],\n",
            "       [4.8, 3.1, 1.6, 0.2],\n",
            "       [5.4, 3.4, 1.5, 0.4],\n",
            "       [5.2, 4.1, 1.5, 0.1],\n",
            "       [5.5, 4.2, 1.4, 0.2],\n",
            "       [4.9, 3.1, 1.5, 0.2],\n",
            "       [5. , 3.2, 1.2, 0.2],\n",
            "       [5.5, 3.5, 1.3, 0.2],\n",
            "       [4.9, 3.6, 1.4, 0.1],\n",
            "       [4.4, 3. , 1.3, 0.2],\n",
            "       [5.1, 3.4, 1.5, 0.2],\n",
            "       [5. , 3.5, 1.3, 0.3],\n",
            "       [4.5, 2.3, 1.3, 0.3],\n",
            "       [4.4, 3.2, 1.3, 0.2],\n",
            "       [5. , 3.5, 1.6, 0.6],\n",
            "       [5.1, 3.8, 1.9, 0.4],\n",
            "       [4.8, 3. , 1.4, 0.3],\n",
            "       [5.1, 3.8, 1.6, 0.2],\n",
            "       [4.6, 3.2, 1.4, 0.2],\n",
            "       [5.3, 3.7, 1.5, 0.2],\n",
            "       [5. , 3.3, 1.4, 0.2],\n",
            "       [7. , 3.2, 4.7, 1.4],\n",
            "       [6.4, 3.2, 4.5, 1.5],\n",
            "       [6.9, 3.1, 4.9, 1.5],\n",
            "       [5.5, 2.3, 4. , 1.3],\n",
            "       [6.5, 2.8, 4.6, 1.5],\n",
            "       [5.7, 2.8, 4.5, 1.3],\n",
            "       [6.3, 3.3, 4.7, 1.6],\n",
            "       [4.9, 2.4, 3.3, 1. ],\n",
            "       [6.6, 2.9, 4.6, 1.3],\n",
            "       [5.2, 2.7, 3.9, 1.4],\n",
            "       [5. , 2. , 3.5, 1. ],\n",
            "       [5.9, 3. , 4.2, 1.5],\n",
            "       [6. , 2.2, 4. , 1. ],\n",
            "       [6.1, 2.9, 4.7, 1.4],\n",
            "       [5.6, 2.9, 3.6, 1.3],\n",
            "       [6.7, 3.1, 4.4, 1.4],\n",
            "       [5.6, 3. , 4.5, 1.5],\n",
            "       [5.8, 2.7, 4.1, 1. ],\n",
            "       [6.2, 2.2, 4.5, 1.5],\n",
            "       [5.6, 2.5, 3.9, 1.1],\n",
            "       [5.9, 3.2, 4.8, 1.8],\n",
            "       [6.1, 2.8, 4. , 1.3],\n",
            "       [6.3, 2.5, 4.9, 1.5],\n",
            "       [6.1, 2.8, 4.7, 1.2],\n",
            "       [6.4, 2.9, 4.3, 1.3],\n",
            "       [6.6, 3. , 4.4, 1.4],\n",
            "       [6.8, 2.8, 4.8, 1.4],\n",
            "       [6.7, 3. , 5. , 1.7],\n",
            "       [6. , 2.9, 4.5, 1.5],\n",
            "       [5.7, 2.6, 3.5, 1. ],\n",
            "       [5.5, 2.4, 3.8, 1.1],\n",
            "       [5.5, 2.4, 3.7, 1. ],\n",
            "       [5.8, 2.7, 3.9, 1.2],\n",
            "       [6. , 2.7, 5.1, 1.6],\n",
            "       [5.4, 3. , 4.5, 1.5],\n",
            "       [6. , 3.4, 4.5, 1.6],\n",
            "       [6.7, 3.1, 4.7, 1.5],\n",
            "       [6.3, 2.3, 4.4, 1.3],\n",
            "       [5.6, 3. , 4.1, 1.3],\n",
            "       [5.5, 2.5, 4. , 1.3],\n",
            "       [5.5, 2.6, 4.4, 1.2],\n",
            "       [6.1, 3. , 4.6, 1.4],\n",
            "       [5.8, 2.6, 4. , 1.2],\n",
            "       [5. , 2.3, 3.3, 1. ],\n",
            "       [5.6, 2.7, 4.2, 1.3],\n",
            "       [5.7, 3. , 4.2, 1.2],\n",
            "       [5.7, 2.9, 4.2, 1.3],\n",
            "       [6.2, 2.9, 4.3, 1.3],\n",
            "       [5.1, 2.5, 3. , 1.1],\n",
            "       [5.7, 2.8, 4.1, 1.3],\n",
            "       [6.3, 3.3, 6. , 2.5],\n",
            "       [5.8, 2.7, 5.1, 1.9],\n",
            "       [7.1, 3. , 5.9, 2.1],\n",
            "       [6.3, 2.9, 5.6, 1.8],\n",
            "       [6.5, 3. , 5.8, 2.2],\n",
            "       [7.6, 3. , 6.6, 2.1],\n",
            "       [4.9, 2.5, 4.5, 1.7],\n",
            "       [7.3, 2.9, 6.3, 1.8],\n",
            "       [6.7, 2.5, 5.8, 1.8],\n",
            "       [7.2, 3.6, 6.1, 2.5],\n",
            "       [6.5, 3.2, 5.1, 2. ],\n",
            "       [6.4, 2.7, 5.3, 1.9],\n",
            "       [6.8, 3. , 5.5, 2.1],\n",
            "       [5.7, 2.5, 5. , 2. ],\n",
            "       [5.8, 2.8, 5.1, 2.4],\n",
            "       [6.4, 3.2, 5.3, 2.3],\n",
            "       [6.5, 3. , 5.5, 1.8],\n",
            "       [7.7, 3.8, 6.7, 2.2],\n",
            "       [7.7, 2.6, 6.9, 2.3],\n",
            "       [6. , 2.2, 5. , 1.5],\n",
            "       [6.9, 3.2, 5.7, 2.3],\n",
            "       [5.6, 2.8, 4.9, 2. ],\n",
            "       [7.7, 2.8, 6.7, 2. ],\n",
            "       [6.3, 2.7, 4.9, 1.8],\n",
            "       [6.7, 3.3, 5.7, 2.1],\n",
            "       [7.2, 3.2, 6. , 1.8],\n",
            "       [6.2, 2.8, 4.8, 1.8],\n",
            "       [6.1, 3. , 4.9, 1.8],\n",
            "       [6.4, 2.8, 5.6, 2.1],\n",
            "       [7.2, 3. , 5.8, 1.6],\n",
            "       [7.4, 2.8, 6.1, 1.9],\n",
            "       [7.9, 3.8, 6.4, 2. ],\n",
            "       [6.4, 2.8, 5.6, 2.2],\n",
            "       [6.3, 2.8, 5.1, 1.5],\n",
            "       [6.1, 2.6, 5.6, 1.4],\n",
            "       [7.7, 3. , 6.1, 2.3],\n",
            "       [6.3, 3.4, 5.6, 2.4],\n",
            "       [6.4, 3.1, 5.5, 1.8],\n",
            "       [6. , 3. , 4.8, 1.8],\n",
            "       [6.9, 3.1, 5.4, 2.1],\n",
            "       [6.7, 3.1, 5.6, 2.4],\n",
            "       [6.9, 3.1, 5.1, 2.3],\n",
            "       [5.8, 2.7, 5.1, 1.9],\n",
            "       [6.8, 3.2, 5.9, 2.3],\n",
            "       [6.7, 3.3, 5.7, 2.5],\n",
            "       [6.7, 3. , 5.2, 2.3],\n",
            "       [6.3, 2.5, 5. , 1.9],\n",
            "       [6.5, 3. , 5.2, 2. ],\n",
            "       [6.2, 3.4, 5.4, 2.3],\n",
            "       [5.9, 3. , 5.1, 1.8]]), 'target': array([0, 0, 0, 0, 0, 0, 0, 0, 0, 0, 0, 0, 0, 0, 0, 0, 0, 0, 0, 0, 0, 0,\n",
            "       0, 0, 0, 0, 0, 0, 0, 0, 0, 0, 0, 0, 0, 0, 0, 0, 0, 0, 0, 0, 0, 0,\n",
            "       0, 0, 0, 0, 0, 0, 1, 1, 1, 1, 1, 1, 1, 1, 1, 1, 1, 1, 1, 1, 1, 1,\n",
            "       1, 1, 1, 1, 1, 1, 1, 1, 1, 1, 1, 1, 1, 1, 1, 1, 1, 1, 1, 1, 1, 1,\n",
            "       1, 1, 1, 1, 1, 1, 1, 1, 1, 1, 1, 1, 2, 2, 2, 2, 2, 2, 2, 2, 2, 2,\n",
            "       2, 2, 2, 2, 2, 2, 2, 2, 2, 2, 2, 2, 2, 2, 2, 2, 2, 2, 2, 2, 2, 2,\n",
            "       2, 2, 2, 2, 2, 2, 2, 2, 2, 2, 2, 2, 2, 2, 2, 2, 2, 2]), 'target_names': array(['setosa', 'versicolor', 'virginica'], dtype='<U10'), 'DESCR': '.. _iris_dataset:\\n\\nIris plants dataset\\n--------------------\\n\\n**Data Set Characteristics:**\\n\\n    :Number of Instances: 150 (50 in each of three classes)\\n    :Number of Attributes: 4 numeric, predictive attributes and the class\\n    :Attribute Information:\\n        - sepal length in cm\\n        - sepal width in cm\\n        - petal length in cm\\n        - petal width in cm\\n        - class:\\n                - Iris-Setosa\\n                - Iris-Versicolour\\n                - Iris-Virginica\\n                \\n    :Summary Statistics:\\n\\n    ============== ==== ==== ======= ===== ====================\\n                    Min  Max   Mean    SD   Class Correlation\\n    ============== ==== ==== ======= ===== ====================\\n    sepal length:   4.3  7.9   5.84   0.83    0.7826\\n    sepal width:    2.0  4.4   3.05   0.43   -0.4194\\n    petal length:   1.0  6.9   3.76   1.76    0.9490  (high!)\\n    petal width:    0.1  2.5   1.20   0.76    0.9565  (high!)\\n    ============== ==== ==== ======= ===== ====================\\n\\n    :Missing Attribute Values: None\\n    :Class Distribution: 33.3% for each of 3 classes.\\n    :Creator: R.A. Fisher\\n    :Donor: Michael Marshall (MARSHALL%PLU@io.arc.nasa.gov)\\n    :Date: July, 1988\\n\\nThe famous Iris database, first used by Sir R.A. Fisher. The dataset is taken\\nfrom Fisher\\'s paper. Note that it\\'s the same as in R, but not as in the UCI\\nMachine Learning Repository, which has two wrong data points.\\n\\nThis is perhaps the best known database to be found in the\\npattern recognition literature.  Fisher\\'s paper is a classic in the field and\\nis referenced frequently to this day.  (See Duda & Hart, for example.)  The\\ndata set contains 3 classes of 50 instances each, where each class refers to a\\ntype of iris plant.  One class is linearly separable from the other 2; the\\nlatter are NOT linearly separable from each other.\\n\\n.. topic:: References\\n\\n   - Fisher, R.A. \"The use of multiple measurements in taxonomic problems\"\\n     Annual Eugenics, 7, Part II, 179-188 (1936); also in \"Contributions to\\n     Mathematical Statistics\" (John Wiley, NY, 1950).\\n   - Duda, R.O., & Hart, P.E. (1973) Pattern Classification and Scene Analysis.\\n     (Q327.D83) John Wiley & Sons.  ISBN 0-471-22361-1.  See page 218.\\n   - Dasarathy, B.V. (1980) \"Nosing Around the Neighborhood: A New System\\n     Structure and Classification Rule for Recognition in Partially Exposed\\n     Environments\".  IEEE Transactions on Pattern Analysis and Machine\\n     Intelligence, Vol. PAMI-2, No. 1, 67-71.\\n   - Gates, G.W. (1972) \"The Reduced Nearest Neighbor Rule\".  IEEE Transactions\\n     on Information Theory, May 1972, 431-433.\\n   - See also: 1988 MLC Proceedings, 54-64.  Cheeseman et al\"s AUTOCLASS II\\n     conceptual clustering system finds 3 classes in the data.\\n   - Many, many more ...', 'feature_names': ['sepal length (cm)', 'sepal width (cm)', 'petal length (cm)', 'petal width (cm)'], 'filename': 'C:\\\\Users\\\\Lina\\\\Anaconda3\\\\lib\\\\site-packages\\\\sklearn\\\\datasets\\\\data\\\\iris.csv'}\n"
          ]
        }
      ]
    },
    {
      "cell_type": "code",
      "metadata": {
        "id": "iYvHkPTnlDN8"
      },
      "source": [
        "#Splitting the dataset into the Training set and Test set\n",
        "X_train, X_test, y_train, y_test = train_test_split(X, y,test_size = 0.2, random_state=0)"
      ],
      "execution_count": null,
      "outputs": []
    },
    {
      "cell_type": "code",
      "metadata": {
        "id": "16SpaH5VlDN8"
      },
      "source": [
        "#Feature Scaling :\n",
        "from sklearn.preprocessing import StandardScaler\n",
        "sc = StandardScaler()\n",
        "X_train = sc.fit_transform(X_train)\n",
        "X_test = sc.transform(X_test)"
      ],
      "execution_count": null,
      "outputs": []
    },
    {
      "cell_type": "code",
      "metadata": {
        "id": "nejeShQDlDN9",
        "outputId": "1c2724ef-77c5-49b6-947f-21157105aa8c"
      },
      "source": [
        "# Fitting Logistic Regression to the Training set :\n",
        "# the impact on the results\n",
        "classifier = LogisticRegression(random_state = 0, solver='lbfgs', multi_class='auto')\n",
        "classifier.fit(X_train, y_train)"
      ],
      "execution_count": null,
      "outputs": [
        {
          "data": {
            "text/plain": [
              "LogisticRegression(C=1.0, class_weight=None, dual=False, fit_intercept=True,\n",
              "                   intercept_scaling=1, l1_ratio=None, max_iter=100,\n",
              "                   multi_class='auto', n_jobs=None, penalty='l2',\n",
              "                   random_state=0, solver='lbfgs', tol=0.0001, verbose=0,\n",
              "                   warm_start=False)"
            ]
          },
          "execution_count": 28,
          "metadata": {},
          "output_type": "execute_result"
        }
      ]
    },
    {
      "cell_type": "code",
      "metadata": {
        "id": "kU6OgzpslDN-",
        "outputId": "a1a643b1-e6fa-4495-8b33-5b2b199a7e36"
      },
      "source": [
        "# Predicting the Test set results\n",
        "y_pred = classifier.predict(X_train)\n",
        "# Predict probabilities\n",
        "probs_y=classifier.predict_proba(X_train)\n",
        "### Print results \n",
        "probs_y = np.round(probs_y, 2)\n",
        "res = \"{:<10} | {:<10} | {:<10} | {:<13} | {:<5}\".format(\"y_test\", \"y_pred\", \"Setosa(%)\", \"versicolor(%)\", \"virginica(%)\\n\")\n",
        "res += \"-\"*65+\"\\n\"\n",
        "res += \"\\n\".join(\"{:<10} | {:<10} | {:<10} | {:<13} | {:<10}\".format(x, y, a, b, c) for x, y, a, b, c in zip(y_test, y_pred, probs_y[:,0], probs_y[:,1], probs_y[:,2]))\n",
        "res += \"\\n\"+\"-\"*65+\"\\n\"\n",
        "print(res)"
      ],
      "execution_count": null,
      "outputs": [
        {
          "name": "stdout",
          "output_type": "stream",
          "text": [
            "y_test     | y_pred     | Setosa(%)  | versicolor(%) | virginica(%)\n",
            "-----------------------------------------------------------------\n",
            "2          | 2          | 0.0        | 0.21          | 0.78      \n",
            "1          | 1          | 0.05       | 0.73          | 0.22      \n",
            "0          | 0          | 0.98       | 0.02          | 0.0       \n",
            "2          | 2          | 0.0        | 0.35          | 0.64      \n",
            "0          | 2          | 0.0        | 0.04          | 0.96      \n",
            "2          | 1          | 0.07       | 0.84          | 0.1       \n",
            "0          | 0          | 0.97       | 0.03          | 0.0       \n",
            "1          | 2          | 0.0        | 0.45          | 0.55      \n",
            "1          | 1          | 0.03       | 0.8           | 0.17      \n",
            "1          | 1          | 0.02       | 0.92          | 0.06      \n",
            "2          | 2          | 0.0        | 0.07          | 0.93      \n",
            "1          | 0          | 0.98       | 0.02          | 0.0       \n",
            "1          | 2          | 0.0        | 0.05          | 0.95      \n",
            "1          | 0          | 0.97       | 0.03          | 0.0       \n",
            "1          | 0          | 0.98       | 0.02          | 0.0       \n",
            "0          | 1          | 0.03       | 0.95          | 0.02      \n",
            "1          | 2          | 0.0        | 0.2           | 0.8       \n",
            "1          | 2          | 0.0        | 0.01          | 0.99      \n",
            "0          | 2          | 0.0        | 0.49          | 0.51      \n",
            "0          | 2          | 0.0        | 0.11          | 0.89      \n",
            "2          | 1          | 0.03       | 0.94          | 0.04      \n",
            "1          | 2          | 0.0        | 0.01          | 0.99      \n",
            "0          | 1          | 0.02       | 0.65          | 0.33      \n",
            "0          | 1          | 0.03       | 0.94          | 0.03      \n",
            "2          | 2          | 0.0        | 0.3           | 0.69      \n",
            "0          | 1          | 0.0        | 0.56          | 0.44      \n",
            "0          | 1          | 0.01       | 0.51          | 0.48      \n",
            "1          | 2          | 0.0        | 0.18          | 0.82      \n",
            "1          | 1          | 0.01       | 0.79          | 0.2       \n",
            "0          | 2          | 0.0        | 0.14          | 0.86      \n",
            "-----------------------------------------------------------------\n",
            "\n"
          ]
        }
      ]
    },
    {
      "cell_type": "code",
      "metadata": {
        "id": "TpvtSG-WlDN-"
      },
      "source": [
        "def plot_confusion_matrix(cm, title='Confusion matrix', cmap=plt.cm.Blues):\n",
        "    plt.imshow(cm, interpolation='nearest', cmap=cmap)\n",
        "    plt.title(title)\n",
        "    plt.colorbar()\n",
        "    tick_marks = np.arange(len(iris.target_names))\n",
        "    plt.xticks(tick_marks, iris.target_names, rotation=45)\n",
        "    plt.yticks(tick_marks, iris.target_names)\n",
        "    plt.tight_layout()\n",
        "    plt.ylabel('True label')\n",
        "    plt.xlabel('Predicted label')"
      ],
      "execution_count": null,
      "outputs": []
    },
    {
      "cell_type": "code",
      "metadata": {
        "id": "F3LzoavslDN-",
        "outputId": "6298798b-faea-49be-bd21-4912593b989b"
      },
      "source": [
        "# Making the Confusion Matrix and plot the confusion matrix\n",
        "cm = confusion_matrix(y_train, y_pred)\n",
        "np.set_printoptions(precision=2)\n",
        "print('Confusion matrix, without normalization')\n",
        "print(cm)\n",
        "plt.figure()\n",
        "plot_confusion_matrix(cm)\n",
        "plt.savefig('cm.png')\n",
        "\n",
        "\n",
        "# From the confusion matrix we can get infos: the total actual setosa in the dataset is 13, \n",
        "# versicolor is 15 and Virginica is 10. The 37 correct prediction, only one mistake prediction."
      ],
      "execution_count": null,
      "outputs": [
        {
          "name": "stdout",
          "output_type": "stream",
          "text": [
            "Confusion matrix, without normalization\n",
            "[[39  0  0]\n",
            " [ 0 34  3]\n",
            " [ 0  2 42]]\n"
          ]
        },
        {
          "data": {
            "image/png": "[encoded data removed]",
            "text/plain": [
              "<Figure size 432x288 with 2 Axes>"
            ]
          },
          "metadata": {
            "needs_background": "light"
          },
          "output_type": "display_data"
        }
      ]
    },
    {
      "cell_type": "code",
      "metadata": {
        "id": "sYncFFpAlDN_",
        "outputId": "1729b881-fb90-49f6-8afc-f8f93a2b2b2e"
      },
      "source": [
        "# Normalize the confusion matrix by row (i.e by the number of samples\n",
        "# in each class)\n",
        "cm_normalized = cm.astype('float') / cm.sum(axis=1)[:, np.newaxis]\n",
        "print('Normalized confusion matrix')\n",
        "print(cm_normalized)\n",
        "plt.figure()\n",
        "plot_confusion_matrix(cm_normalized, title='Normalized confusion matrix')\n",
        "\n",
        "plt.show()\n",
        "\n",
        "# The accuracy of setosa and versicolor is 100%, excellent! and the accuracy of versicolor is 62%.\n",
        "\n",
        "# "
      ],
      "execution_count": null,
      "outputs": [
        {
          "name": "stdout",
          "output_type": "stream",
          "text": [
            "Normalized confusion matrix\n",
            "[[1.   0.   0.  ]\n",
            " [0.   0.92 0.08]\n",
            " [0.   0.05 0.95]]\n"
          ]
        },
        {
          "data": {
            "image/png": "[encoded data removed]",
            "text/plain": [
              "<Figure size 432x288 with 2 Axes>"
            ]
          },
          "metadata": {
            "needs_background": "light"
          },
          "output_type": "display_data"
        }
      ]
    },
    {
      "cell_type": "code",
      "metadata": {
        "id": "D-jTl7PWlDN_"
      },
      "source": [
        "# Question b: Use k-nearest neighbours to classify the iris data set with some different values for k, \n",
        "# and with uniform and distance-based weights. What will happen when k grows larger for the different cases? Why?"
      ],
      "execution_count": null,
      "outputs": []
    },
    {
      "cell_type": "code",
      "metadata": {
        "id": "kXhvpMRxlDN_",
        "outputId": "55bd0410-91e5-48bc-dda2-441bb890cf8f"
      },
      "source": [
        "observations = len(iris.data)\n",
        "features = len(iris.feature_names)\n",
        "print(\"Number of Observations: \" + str(observations))\n",
        "print(\"Number of Features: \" + str(features))\n",
        "print(\"\")\n"
      ],
      "execution_count": null,
      "outputs": [
        {
          "name": "stdout",
          "output_type": "stream",
          "text": [
            "Number of Observations: 150\n",
            "Number of Features: 4\n",
            "\n"
          ]
        }
      ]
    },
    {
      "cell_type": "code",
      "metadata": {
        "id": "crsElrsOlDN_",
        "outputId": "5ce6adfe-6595-40a4-f490-031609458f6d"
      },
      "source": [
        "print(\"Features: \")\n",
        "for i in iris.feature_names:\n",
        "\tprint (i)\n",
        "print(\"\")\n",
        "\n",
        "x = iris.data[0:,:2] # Filter just the first two columns (sepal length and sepal width)\n",
        "y = iris.target"
      ],
      "execution_count": null,
      "outputs": [
        {
          "name": "stdout",
          "output_type": "stream",
          "text": [
            "Features: \n",
            "sepal length (cm)\n",
            "sepal width (cm)\n",
            "petal length (cm)\n",
            "petal width (cm)\n",
            "\n"
          ]
        }
      ]
    },
    {
      "cell_type": "code",
      "metadata": {
        "id": "Qk5gJCR5lDN_",
        "outputId": "1ab1e727-89ec-454d-8da5-314c3760dbd0"
      },
      "source": [
        "plt.figure()\n",
        "plt.scatter(x[0:,0], x[:,1], c=y)\n",
        "plt.xlabel(\"Sepal Length (cm)\", fontsize=14)\n",
        "plt.ylabel(\"Sepal Width (cm)\", fontsize=14)\n",
        "plt.title(\"Scatterplot of Iris data\", fontsize=16)\n",
        "plt.savefig(\"sepal-scatterplot.png\")"
      ],
      "execution_count": null,
      "outputs": [
        {
          "data": {
            "image/png": "[encoded data removed]",
            "text/plain": [
              "<Figure size 432x288 with 1 Axes>"
            ]
          },
          "metadata": {
            "needs_background": "light"
          },
          "output_type": "display_data"
        }
      ]
    },
    {
      "cell_type": "code",
      "metadata": {
        "id": "EzyXokROlDOA"
      },
      "source": [
        "from sklearn.neighbors import KNeighborsClassifier\n",
        "from sklearn import metrics\n",
        "k_range=range(20,26)\n",
        "scores={}\n",
        "scores_list=[]\n",
        "for k in k_range:\n",
        "    knn =KNeighborsClassifier(n_neighbors=k)\n",
        "    knn.fit(X_train,y_train)\n",
        "    y_pred=knn.predict(X_test)\n",
        "    scores[k]=metrics.accuracy_score(y_test,y_pred)\n",
        "    scores_list.append(metrics.accuracy_score(y_test,y_pred))"
      ],
      "execution_count": null,
      "outputs": []
    },
    {
      "cell_type": "code",
      "metadata": {
        "id": "nBAnNOzFlDOB",
        "outputId": "576b2f3c-7d06-4ac0-e783-b038c86ffeb1"
      },
      "source": [
        "classifier = KNeighborsClassifier(n_neighbors=3)\n",
        "classifier.fit(X_train, y_train)"
      ],
      "execution_count": null,
      "outputs": [
        {
          "data": {
            "text/plain": [
              "KNeighborsClassifier(algorithm='auto', leaf_size=30, metric='minkowski',\n",
              "                     metric_params=None, n_jobs=None, n_neighbors=3, p=2,\n",
              "                     weights='uniform')"
            ]
          },
          "execution_count": 37,
          "metadata": {},
          "output_type": "execute_result"
        }
      ]
    },
    {
      "cell_type": "code",
      "metadata": {
        "id": "lWhRMtXElDOB"
      },
      "source": [
        "y_pred = classifier.predict(X_train)"
      ],
      "execution_count": null,
      "outputs": []
    },
    {
      "cell_type": "code",
      "metadata": {
        "id": "Fu2jpa-ilDOC",
        "outputId": "5c6b38b7-018d-4383-df32-4ceeca51dcdf"
      },
      "source": [
        "print(y_pred)"
      ],
      "execution_count": null,
      "outputs": [
        {
          "name": "stdout",
          "output_type": "stream",
          "text": [
            "[2 1 0 2 2 1 0 2 1 1 2 0 2 0 0 1 2 2 1 2 1 2 1 1 2 2 1 2 1 2 1 0 2 1 1 1 1\n",
            " 2 0 0 2 1 0 0 1 0 2 1 0 1 2 1 0 2 2 2 2 0 0 2 2 0 2 0 2 2 0 0 2 0 0 0 1 2\n",
            " 2 0 0 0 1 1 0 0 1 0 2 1 2 1 0 2 0 2 0 0 2 0 2 1 1 1 2 2 1 1 0 1 2 2 0 1 1\n",
            " 2 1 0 0 0 2 1 2 0]\n"
          ]
        }
      ]
    },
    {
      "cell_type": "code",
      "metadata": {
        "id": "dEAP7S3QlDOC",
        "outputId": "47649dbc-fbd7-4fde-9c5f-1a1869900b6e"
      },
      "source": [
        "print(confusion_matrix(y_train, y_pred))\n",
        "print(classification_report(y_train, y_pred))\n",
        "\n",
        "# The results show that our KNN algorithm was able to classify all the 35 records in the test set with 97% accuracy, \n",
        "# which is excellent."
      ],
      "execution_count": null,
      "outputs": [
        {
          "name": "stdout",
          "output_type": "stream",
          "text": [
            "[[39  0  0]\n",
            " [ 0 35  2]\n",
            " [ 0  2 42]]\n",
            "              precision    recall  f1-score   support\n",
            "\n",
            "           0       1.00      1.00      1.00        39\n",
            "           1       0.95      0.95      0.95        37\n",
            "           2       0.95      0.95      0.95        44\n",
            "\n",
            "    accuracy                           0.97       120\n",
            "   macro avg       0.97      0.97      0.97       120\n",
            "weighted avg       0.97      0.97      0.97       120\n",
            "\n"
          ]
        }
      ]
    },
    {
      "cell_type": "code",
      "metadata": {
        "id": "5AWUFYNIlDOD"
      },
      "source": [
        "error = []\n",
        "\n",
        "# Calculating error for K values between 1 and 40\n",
        "for i in range(1, 20):\n",
        "    classifier = KNeighborsClassifier(n_neighbors=i)\n",
        "    classifier.fit(X_test, y_test)\n",
        "    pred_i = classifier.predict(X_test)\n",
        "    error.append(np.mean(pred_i != y_test))"
      ],
      "execution_count": null,
      "outputs": []
    },
    {
      "cell_type": "code",
      "metadata": {
        "id": "5cdLISOHlDOD",
        "outputId": "d16d8e6e-1152-494a-ed2c-ffe8e86b0680"
      },
      "source": [
        "print(error)"
      ],
      "execution_count": null,
      "outputs": [
        {
          "name": "stdout",
          "output_type": "stream",
          "text": [
            "[0.0, 0.1, 0.06666666666666667, 0.1, 0.1, 0.16666666666666666, 0.1, 0.13333333333333333, 0.13333333333333333, 0.2, 0.2, 0.2, 0.2, 0.2, 0.2, 0.2, 0.2, 0.2, 0.2]\n"
          ]
        }
      ]
    },
    {
      "cell_type": "code",
      "metadata": {
        "id": "Z0EOmvzblDOD",
        "outputId": "e7721d94-0964-4121-f643-7209c6dbc1bf"
      },
      "source": [
        "plt.figure(figsize=(12, 6))\n",
        "plt.plot(range(1, 20), error, color='red', linestyle='dashed', marker='o',\n",
        "         markerfacecolor='blue', markersize=10)\n",
        "plt.title('Error Rate K Value')\n",
        "plt.xlabel('K Value')\n",
        "plt.ylabel('Mean Error')"
      ],
      "execution_count": null,
      "outputs": [
        {
          "data": {
            "text/plain": [
              "Text(0, 0.5, 'Mean Error')"
            ]
          },
          "execution_count": 44,
          "metadata": {},
          "output_type": "execute_result"
        },
        {
          "data": {
            "image/png": "[encoded data removed]",
            "text/plain": [
              "<Figure size 864x432 with 1 Axes>"
            ]
          },
          "metadata": {
            "needs_background": "light"
          },
          "output_type": "display_data"
        }
      ]
    }
  ]
}