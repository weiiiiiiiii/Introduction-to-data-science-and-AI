{
  "nbformat": 4,
  "nbformat_minor": 0,
  "metadata": {
    "colab": {
      "name": "Neural Networks with Kerasand TensorFlow.ipynb",
      "provenance": [],
      "collapsed_sections": []
    },
    "kernelspec": {
      "display_name": "Python 3",
      "language": "python",
      "name": "python3"
    },
    "language_info": {
      "codemirror_mode": {
        "name": "ipython",
        "version": 3
      },
      "file_extension": ".py",
      "mimetype": "text/x-python",
      "name": "python",
      "nbconvert_exporter": "python",
      "pygments_lexer": "ipython3",
      "version": "3.7.3"
    }
  },
  "cells": [
    {
      "cell_type": "markdown",
      "metadata": {
        "id": "rHoSDyYpdh-s"
      },
      "source": [
        "Assignment 7: Neural Networks using Keras and Tensorflow Please see the associated document for questions\n",
        "\n",
        "If you have problems with Keras and Tensorflow on your local installation please make sure they are updated. On Google Colab this notebook runs."
      ]
    },
    {
      "cell_type": "markdown",
      "metadata": {
        "id": "7oBumMeuD-EC"
      },
      "source": [
        "## Authors and hours spent on the assignment\n",
        "**Names:** Wei Wu and Lina Hammargren\n",
        "\n",
        "**Hours:** Around 15 hours each"
      ]
    },
    {
      "cell_type": "code",
      "metadata": {
        "id": "02ZYZ-WmdhwH"
      },
      "source": [
        "# imports\n",
        "from __future__ import print_function\n",
        "import keras\n",
        "from keras.datasets import mnist\n",
        "from keras.models import Sequential\n",
        "from keras.layers import Dense, Dropout, Flatten\n",
        "from keras.layers import Conv2D, MaxPooling2D\n",
        "from keras import backend as K\n",
        "import tensorflow as tf\n",
        "from matplotlib import pyplot as plt"
      ],
      "execution_count": null,
      "outputs": []
    },
    {
      "cell_type": "code",
      "metadata": {
        "colab": {
          "base_uri": "https://localhost:8080/"
        },
        "id": "BJRCoRmew8Zd",
        "outputId": "2b272f98-b953-4476-834f-5052b1a48060"
      },
      "source": [
        "# Hyper-parameters data-loading and formatting\n",
        "\n",
        "batch_size = 128\n",
        "num_classes = 10\n",
        "epochs = 10\n",
        "\n",
        "img_rows, img_cols = 28, 28\n",
        "\n",
        "(x_train, lbl_train), (x_test, lbl_test) = mnist.load_data()\n",
        "\n",
        "if K.image_data_format() == 'channels_first':\n",
        "    x_train = x_train.reshape(x_train.shape[0], 1, img_rows, img_cols)\n",
        "    x_test = x_test.reshape(x_test.shape[0], 1, img_rows, img_cols)\n",
        "    input_shape = (1, img_rows, img_cols)\n",
        "else:\n",
        "    x_train = x_train.reshape(x_train.shape[0], img_rows, img_cols, 1)\n",
        "    x_test = x_test.reshape(x_test.shape[0], img_rows, img_cols, 1)\n",
        "    input_shape = (img_rows, img_cols, 1)"
      ],
      "execution_count": null,
      "outputs": [
        {
          "output_type": "stream",
          "text": [
            "Downloading data from https://storage.googleapis.com/tensorflow/tf-keras-datasets/mnist.npz\n",
            "11493376/11490434 [==============================] - 0s 0us/step\n"
          ],
          "name": "stdout"
        }
      ]
    },
    {
      "cell_type": "markdown",
      "metadata": {
        "id": "-I3g1RrZ0wpI"
      },
      "source": [
        "**Preprocessing**"
      ]
    },
    {
      "cell_type": "code",
      "metadata": {
        "id": "UswCCQLS0s1I"
      },
      "source": [
        "x_train = x_train.astype('float32')\n",
        "x_test = x_test.astype('float32')\n",
        "\n",
        "x_train /= 255\n",
        "x_test /= 255\n",
        "\n",
        "y_train = keras.utils.to_categorical(lbl_train, num_classes)\n",
        "y_test = keras.utils.to_categorical(lbl_test, num_classes)\n"
      ],
      "execution_count": null,
      "outputs": []
    },
    {
      "cell_type": "markdown",
      "metadata": {
        "id": "xMYeq_XQD-EF"
      },
      "source": [
        "### Answer to question 1: Explain the data preprocessing in the notebook\n",
        "\n",
        "First, we note that the data consists of images. The maximum value of the pixels is 255 and the minimum value is 0. So what happens when we divide the data by 255 is that we convert the data to values between 0 and 1 (we normalize our values). We also saw that the elements were integers, so first we needed to convert the elements to floating point numbers to be able to perform the normalization. \n",
        "\n",
        "1. Convert the training and test data to floating point numbers\n",
        "2. Normalize the values - divide the numbers by 255 (so that they are between 0 and 1)\n",
        "3. Convert y_train and y_test to categorical values (these are the target values/labels)\n",
        "\n",
        "We normalize the values to make the input features on the same order of magnitude, this makes the training easier. (source: the intro to neural networks from module 7, neural_networks_intro.ipynb)"
      ]
    },
    {
      "cell_type": "markdown",
      "metadata": {
        "id": "zI06PTaRD-EG"
      },
      "source": [
        "### Answer to question 2 a:\n",
        "* #### How many layers does the network in the notebook have? How many neurons does each layer have?:\n",
        "The model.add() function adds layers to the network.\n",
        "\n",
        "**model.add(Flatten()):**\n",
        "Here we convert the input which is a 28x28 array into a one dimensional (1x784) array. \n",
        "\n",
        "**model.add(Dense(64, activation = 'relu')):**\n",
        "Hidden layer 1: 64 neurons, ReLU activation function\n",
        "\n",
        "**model.add(Dense(64, activation = 'relu')):**\n",
        "Hidden layer 2: 64 neurons, ReLU activation function\n",
        "\n",
        "**model.add(Dense(num_classes, activation='softmax')):**\n",
        "Output layer 1: 10 neurons, softmax activation function. (num_classes is 10, the amount of classes)\n",
        "\n",
        "So the model has four layers counting the Flatten() layer.\n",
        "\n",
        "Each layer has the following neurons:\n",
        "Layer 1: 64, Layer 2: 64, Layer 3: 10\n",
        "\n",
        "\n",
        "* #### What activation functions and why are these appropriate for this application?:\n",
        "ReLu in the two middle layers, softmax in the last layer. ($b_i$ is the local field of the neuron).\n",
        "\n",
        "ReLU: $f(b_i)= \\begin{cases} \n",
        "      0 & b_i< 0 \\\\\n",
        "      b_i & b_i \\geq 0 \\\\\n",
        "   \\end{cases} = max(b_i,0)\n",
        "$\n",
        "\n",
        "Source: https://keras.io/api/layers/activations/#relu-function\n",
        "\n",
        "Softmax: $f(b_i)=\\frac{e^{b_i}}{\\sum_{k=1}^{num\\_classes}e^{b_k}}$\n",
        "\n",
        "Source: https://keras.io/api/layers/activations/#softmax-function\n",
        "\n",
        "\n",
        "We start by discussing the ReLU function, and first state that its derivative is 1 when $b_i>=0$. Compare this to for example the tanh function where the derivative is between 0 and 1. When doing back-propagation we multiply the derivatives of the activation function, and using a function with a derivative that is smaller than 1 this causes the so-called vanishing-gradient problem that causes the initial layers to not be updated efficiently.\n",
        "\n",
        "Moving on to the softmax function, which is our output layer, the output of the function can be interpreted as probabilities. So the value for the i:th neuron represent the probability of the input belonging to one of the classes.\n",
        "\n",
        "* #### What is the total number of parameters for the network?:\n",
        "55 050 (from model.summary() below)\n",
        "\n",
        "\n",
        "* #### Why does the input and output layers have the dimensions they have?:\n",
        "The input layer is a vector of 1x784, the 2-dim image in vector form. The output layer has 1 x num_classes (1*10) dimension, this is because we use the softmax function which outputs the probability of the input belonging to one of the classes, and we have 10 classes which are the integers from 0 to 9.\n",
        "\n",
        "\n",
        "### Answer to question 2 b:\n",
        "\n",
        "**What loss-function is used to train the network?**\n",
        "Categorical cross-entropy.\n",
        "\n",
        "**What is the functional form (mathematical expression) of the loss function? and how should we interpret it?**:\n",
        "\n",
        "To reiterate, we have a total of 10 classes, the classes being 0,1,2,3,4,5,6,7,8,9.\n",
        "\n",
        "$t_i :=$ target value (true value) for the input $i=1,...,num\\_classes$\n",
        "\n",
        "$O_i :=$ output of the network (the softmax of the last layer) $i=1,...,num\\_classes$\n",
        "\n",
        "The categorical cross-entropy function is then:\n",
        "\n",
        "$H=-\\sum_{i=1}^{num\\_classes}t_ilog(O_i)$\n",
        "\n",
        "\n",
        "As previously mentioned, the output of the function when using softmax can be interpreted as probabilities. So the closer we are to one, the smaller this value will be (log(x)=0 if x=1 and negative if x<1) and it cannot be larger than one because we are dividing the value $e^{b_i}$ by the sum $\\sum_{k=1}^{num\\_classes}e^{b_k}$.\n",
        "\n",
        "\n",
        "**Why is it appropriate for the problem at hand?**:\n",
        "It is appropriate because we have a multi-class classification problem. Taking for example the mean squared error, this loss function is better when we have a continuous target variable, because we are measuring the difference between the input and the target value."
      ]
    },
    {
      "cell_type": "markdown",
      "metadata": {
        "id": "uPbaE-YDD-EH"
      },
      "source": [
        "### Answer to question 2 c: train the network for 10 epochs and plot the training and validation accuracy for each epoch (below)"
      ]
    },
    {
      "cell_type": "code",
      "metadata": {
        "id": "N7Aer42gk1W9",
        "colab": {
          "base_uri": "https://localhost:8080/"
        },
        "outputId": "b0e55096-7a08-41d6-c422-4f93bcd546b7"
      },
      "source": [
        "\n",
        "## Define model ##\n",
        "model = Sequential()\n",
        "\n",
        "model.add(Flatten())\n",
        "model.add(Dense(64, activation = 'relu'))\n",
        "model.add(Dense(64, activation = 'relu'))\n",
        "model.add(Dense(num_classes, activation='softmax'))\n",
        "\n",
        "\n",
        "model.compile(loss=keras.losses.categorical_crossentropy,\n",
        "               optimizer=keras.optimizers.SGD(lr = 0.1),\n",
        "        metrics=['accuracy'],)\n",
        "\n",
        "fit_info = model.fit(x_train, y_train,\n",
        "           batch_size=batch_size,\n",
        "           epochs=epochs,\n",
        "           verbose=1,\n",
        "           validation_data=(x_test, y_test))\n",
        "score = model.evaluate(x_test, y_test, verbose=0)\n",
        "print('Test loss: {}, Test accuracy {}'.format(score[0], score[1]))"
      ],
      "execution_count": null,
      "outputs": [
        {
          "output_type": "stream",
          "text": [
            "Epoch 1/10\n",
            "469/469 [==============================] - 2s 3ms/step - loss: 0.7992 - accuracy: 0.7734 - val_loss: 0.2743 - val_accuracy: 0.9214\n",
            "Epoch 2/10\n",
            "469/469 [==============================] - 1s 2ms/step - loss: 0.2436 - accuracy: 0.9287 - val_loss: 0.1817 - val_accuracy: 0.9476\n",
            "Epoch 3/10\n",
            "469/469 [==============================] - 1s 2ms/step - loss: 0.1760 - accuracy: 0.9489 - val_loss: 0.1652 - val_accuracy: 0.9519\n",
            "Epoch 4/10\n",
            "469/469 [==============================] - 1s 2ms/step - loss: 0.1381 - accuracy: 0.9605 - val_loss: 0.1344 - val_accuracy: 0.9608\n",
            "Epoch 5/10\n",
            "469/469 [==============================] - 1s 2ms/step - loss: 0.1179 - accuracy: 0.9663 - val_loss: 0.1162 - val_accuracy: 0.9656\n",
            "Epoch 6/10\n",
            "469/469 [==============================] - 1s 2ms/step - loss: 0.1057 - accuracy: 0.9700 - val_loss: 0.1089 - val_accuracy: 0.9652\n",
            "Epoch 7/10\n",
            "469/469 [==============================] - 1s 2ms/step - loss: 0.0930 - accuracy: 0.9723 - val_loss: 0.1059 - val_accuracy: 0.9687\n",
            "Epoch 8/10\n",
            "469/469 [==============================] - 1s 2ms/step - loss: 0.0816 - accuracy: 0.9764 - val_loss: 0.0921 - val_accuracy: 0.9724\n",
            "Epoch 9/10\n",
            "469/469 [==============================] - 1s 2ms/step - loss: 0.0733 - accuracy: 0.9782 - val_loss: 0.0980 - val_accuracy: 0.9704\n",
            "Epoch 10/10\n",
            "469/469 [==============================] - 1s 2ms/step - loss: 0.0696 - accuracy: 0.9797 - val_loss: 0.0926 - val_accuracy: 0.9717\n",
            "Test loss: 0.09259852021932602, Test accuracy 0.9717000126838684\n"
          ],
          "name": "stdout"
        }
      ]
    },
    {
      "cell_type": "code",
      "metadata": {
        "colab": {
          "base_uri": "https://localhost:8080/"
        },
        "id": "Th2Cd5Y4D-EI",
        "outputId": "27f73375-1cee-4031-fb75-d76dab7109ae"
      },
      "source": [
        "model.summary()"
      ],
      "execution_count": null,
      "outputs": [
        {
          "output_type": "stream",
          "text": [
            "Model: \"sequential\"\n",
            "_________________________________________________________________\n",
            "Layer (type)                 Output Shape              Param #   \n",
            "=================================================================\n",
            "flatten (Flatten)            (None, 784)               0         \n",
            "_________________________________________________________________\n",
            "dense (Dense)                (None, 64)                50240     \n",
            "_________________________________________________________________\n",
            "dense_1 (Dense)              (None, 64)                4160      \n",
            "_________________________________________________________________\n",
            "dense_2 (Dense)              (None, 10)                650       \n",
            "=================================================================\n",
            "Total params: 55,050\n",
            "Trainable params: 55,050\n",
            "Non-trainable params: 0\n",
            "_________________________________________________________________\n"
          ],
          "name": "stdout"
        }
      ]
    },
    {
      "cell_type": "code",
      "metadata": {
        "colab": {
          "base_uri": "https://localhost:8080/",
          "height": 294
        },
        "id": "bxo4G1XlEqGn",
        "outputId": "34214733-7239-48de-a620-191888aaac81"
      },
      "source": [
        "#validation accuracy for each epoch\n",
        "\n",
        "x = [1,2,3,4,5,6,7,8,9,10]\n",
        "plt.plot(x, fit_info.history['accuracy'], label = \"training accuracy\")\n",
        "plt.plot(x, fit_info.history['val_accuracy'],label = \"validation accuracy\")\n",
        "plt.title('Training curve ')\n",
        "plt.legend()\n",
        "plt.xlabel('Epoches')\n",
        "plt.ylabel('Accuracy')\n",
        "plt.show()\n"
      ],
      "execution_count": null,
      "outputs": [
        {
          "output_type": "display_data",
          "data": {
            "image/png": "[encoded data removed]",
            "text/plain": [
              "<Figure size 432x288 with 1 Axes>"
            ]
          },
          "metadata": {
            "tags": [],
            "needs_background": "light"
          }
        }
      ]
    },
    {
      "cell_type": "markdown",
      "metadata": {
        "id": "wgO546pSD-EJ"
      },
      "source": [
        "### Answer to question 2 d: update the model to implement a three-layer neural network where the hidden-layers has 500 and 300 hidden units respectively."
      ]
    },
    {
      "cell_type": "code",
      "metadata": {
        "id": "wYavUZkND-EJ",
        "outputId": "54e09a0b-09d1-4616-9fa3-d61de2eb2659"
      },
      "source": [
        "from tensorflow.keras import regularizers\n",
        "\n",
        "factors=[0.000001, 0.00001, 0.0001, 0.0002, 0.001]\n",
        "results=[]\n",
        "\n",
        "\n",
        "for i in factors:\n",
        "    for j in range(3):\n",
        "        ## Define model ##\n",
        "        model2d = Sequential()\n",
        "\n",
        "        ## Layers ##\n",
        "        model2d.add(Flatten())\n",
        "        model2d.add(Dense(500, activation = 'relu', kernel_regularizer=regularizers.l2(i)))\n",
        "        model2d.add(Dense(300, activation = 'relu', kernel_regularizer=regularizers.l2(i)))\n",
        "        model2d.add(Dense(num_classes, activation='softmax'))\n",
        "\n",
        "\n",
        "        model2d.compile(loss=keras.losses.categorical_crossentropy,\n",
        "               optimizer=keras.optimizers.SGD(lr = 0.1),\n",
        "        metrics=['accuracy'],)\n",
        "\n",
        "\n",
        "        fit_info2d = model2d.fit(x_train, y_train,\n",
        "           batch_size=batch_size,\n",
        "           epochs=40,\n",
        "            verbose=0, # don't print out all results all of the time\n",
        "           validation_data=(x_test, y_test))\n",
        "        score2d = model2d.evaluate(x_test, y_test, verbose=0)\n",
        "        print('Test loss 2d: {}, Test accuracy 2d: {}'.format(score2d[0], score2d[1]))\n",
        "        print(i)\n",
        "        results.append([score2d[1], i, j])"
      ],
      "execution_count": null,
      "outputs": [
        {
          "output_type": "stream",
          "text": [
            "Test loss 2d: 0.06775666773319244, Test accuracy 2d: 0.98089998960495\n",
            "1e-06\n",
            "Test loss 2d: 0.06613609939813614, Test accuracy 2d: 0.9818999767303467\n",
            "1e-06\n",
            "Test loss 2d: 0.06800728291273117, Test accuracy 2d: 0.9819999933242798\n",
            "1e-06\n",
            "Test loss 2d: 0.07857230305671692, Test accuracy 2d: 0.9804999828338623\n",
            "1e-05\n",
            "Test loss 2d: 0.07534421980381012, Test accuracy 2d: 0.9811999797821045\n",
            "1e-05\n",
            "Test loss 2d: 0.07407547533512115, Test accuracy 2d: 0.9821000099182129\n",
            "1e-05\n",
            "Test loss 2d: 0.11602920293807983, Test accuracy 2d: 0.982200026512146\n",
            "0.0001\n",
            "Test loss 2d: 0.1214580163359642, Test accuracy 2d: 0.9828000068664551\n",
            "0.0001\n",
            "Test loss 2d: 0.12167803943157196, Test accuracy 2d: 0.982200026512146\n",
            "0.0001\n",
            "Test loss 2d: 0.12338713556528091, Test accuracy 2d: 0.9825000166893005\n",
            "0.0002\n",
            "Test loss 2d: 0.12246979773044586, Test accuracy 2d: 0.9830999970436096\n",
            "0.0002\n",
            "Test loss 2d: 0.12300153821706772, Test accuracy 2d: 0.984000027179718\n",
            "0.0002\n",
            "Test loss 2d: 0.11722493916749954, Test accuracy 2d: 0.9821000099182129\n",
            "0.001\n",
            "Test loss 2d: 0.11849506944417953, Test accuracy 2d: 0.9818999767303467\n",
            "0.001\n",
            "Test loss 2d: 0.12157244980335236, Test accuracy 2d: 0.98089998960495\n",
            "0.001\n"
          ],
          "name": "stdout"
        }
      ]
    },
    {
      "cell_type": "markdown",
      "metadata": {
        "id": "NGJLsiI7D-EK"
      },
      "source": [
        "**Comment on the result:** the accuracy increases when we add regularizers. We get around 0.98 test accuracy."
      ]
    },
    {
      "cell_type": "code",
      "metadata": {
        "id": "CoyegvxwD-EK",
        "outputId": "7feccd69-9361-4c2c-b7d1-20975bdd3133"
      },
      "source": [
        "import statistics\n",
        "import matplotlib.pyplot as plt\n",
        "\n",
        "stds=[]\n",
        "\n",
        "#print(results)\n",
        "for x in range(0,len(results),3):\n",
        "    temp=[]\n",
        "    for i in range(3):\n",
        "        temp.append(results[i][0])\n",
        "    stds.append(statistics.stdev(temp))\n",
        "\n",
        "chosen=[results[x][0] for x in range(0,len(results),3)]\n",
        "#print(factors)\n",
        "#print(stds)\n",
        "#print(chosen)\n",
        "plt.plot(factors, chosen, label=\"Validation accuracy\")\n",
        "plt.plot(factors, [chosen[i]-stds[i] for i in range(len(stds))], label=\"Lower\", c='r', ls='--')\n",
        "plt.plot(factors, [chosen[i]+stds[i] for i in range(len(stds))], label=\"Upper\", c='r', ls='--')\n",
        "plt.xlabel('Regularization factors')\n",
        "plt.ylabel('Accuracy')\n",
        "plt.title('Accuracy as a function of regularization factors')"
      ],
      "execution_count": null,
      "outputs": [
        {
          "output_type": "execute_result",
          "data": {
            "text/plain": [
              "Text(0.5, 1.0, 'Accuracy as a function of regularization factors')"
            ]
          },
          "metadata": {
            "tags": []
          },
          "execution_count": 8
        },
        {
          "output_type": "display_data",
          "data": {
            "image/png": "[encoded data removed]",
            "text/plain": [
              "<Figure size 432x288 with 1 Axes>"
            ]
          },
          "metadata": {
            "tags": [],
            "needs_background": "light"
          }
        }
      ]
    },
    {
      "cell_type": "markdown",
      "metadata": {
        "id": "lswMghdOD-EL"
      },
      "source": [
        "**Comment:** The accuracy is the largest for regularization factors of 0.0002."
      ]
    },
    {
      "cell_type": "markdown",
      "metadata": {
        "id": "tGRvl7hLD-EL"
      },
      "source": [
        "### Answer to question 3 a: design a model that makes use of at least one convolutional layer - how performant a model can you get?"
      ]
    },
    {
      "cell_type": "markdown",
      "metadata": {
        "id": "vDQ0ZvJND-EL"
      },
      "source": [
        "We added one convolutional layer of filters with dimensionality of the output space 64 and 32 respectively and (3,3) kernel size. We also added two pooling layers of dimension (2,2). The convolutional layers generate feature maps, which are the result of applying a filter to the input image. In addition to the convolutional layers we added pooling layers with the MaxPooling2d()-function, which takes the maximum value over the area defined by its argument (2,2). The pooling layer reduces the dimensions of the input. \n",
        "\n",
        "Sources: \n",
        "MaxPooling2d: https://keras.io/api/layers/pooling_layers/max_pooling2d/\n",
        "Conv2D: https://keras.io/api/layers/convolution_layers/convolution2d/"
      ]
    },
    {
      "cell_type": "code",
      "metadata": {
        "id": "yRLIBqt7D-EM",
        "outputId": "f732f131-a78f-4fc5-db5c-5f2b057288c7"
      },
      "source": [
        "x_train.shape"
      ],
      "execution_count": null,
      "outputs": [
        {
          "output_type": "execute_result",
          "data": {
            "text/plain": [
              "(60000, 28, 28, 1)"
            ]
          },
          "metadata": {
            "tags": []
          },
          "execution_count": 31
        }
      ]
    },
    {
      "cell_type": "code",
      "metadata": {
        "id": "jbEi8cr8D-EM",
        "outputId": "f668b207-e858-498d-e726-e37a7495f27c"
      },
      "source": [
        "i=0.0002 # received the highest accuracy in 2 d\n",
        "results3=[]\n",
        "\n",
        "## Define model ##\n",
        "model3 = Sequential()\n",
        "\n",
        "## Layers ##\n",
        "model3.add(Conv2D(64, (3,3), activation='relu', input_shape=(28,28,1)))\n",
        "model3.add(MaxPooling2D((2, 2)))\n",
        "\n",
        "model3.add(Conv2D(32, (3,3), activation='relu', input_shape=(28,28,1)))\n",
        "model3.add(MaxPooling2D((2, 2)))\n",
        "\n",
        "model3.add(Flatten())\n",
        "model3.add(Dense(500, activation = 'relu', kernel_regularizer=regularizers.l2(i)))\n",
        "model3.add(Dense(300, activation = 'relu', kernel_regularizer=regularizers.l2(i)))\n",
        "model3.add(Dense(num_classes, activation='softmax'))\n",
        "\n",
        "\n",
        "model3.compile(loss=keras.losses.categorical_crossentropy,\n",
        "               optimizer=keras.optimizers.SGD(lr = 0.1),\n",
        "        metrics=['accuracy'],)\n",
        "\n",
        "\n",
        "fit_info3 = model3.fit(x_train, y_train,\n",
        "           batch_size=batch_size,\n",
        "           epochs=40,\n",
        "            verbose=1, \n",
        "           validation_data=(x_test, y_test))\n",
        "score3 = model3.evaluate(x_test, y_test, verbose=1)\n",
        "print('Test loss 3a: {}, Test accuracy 3a: {}'.format(score3[0], score3[1]))\n",
        "print(i)\n",
        "results3.append([score3[1], i, j])"
      ],
      "execution_count": null,
      "outputs": [
        {
          "output_type": "stream",
          "text": [
            "Epoch 1/40\n",
            "469/469 [==============================] - 39s 84ms/step - loss: 0.5721 - accuracy: 0.8813 - val_loss: 0.2803 - val_accuracy: 0.9725\n",
            "Epoch 2/40\n",
            "469/469 [==============================] - 38s 80ms/step - loss: 0.2739 - accuracy: 0.9744 - val_loss: 0.2437 - val_accuracy: 0.9831\n",
            "Epoch 3/40\n",
            "469/469 [==============================] - 36s 77ms/step - loss: 0.2412 - accuracy: 0.9828 - val_loss: 0.2307 - val_accuracy: 0.9840\n",
            "Epoch 4/40\n",
            "469/469 [==============================] - 35s 76ms/step - loss: 0.2237 - accuracy: 0.9868 - val_loss: 0.2315 - val_accuracy: 0.9823\n",
            "Epoch 5/40\n",
            "469/469 [==============================] - 37s 78ms/step - loss: 0.2095 - accuracy: 0.9892 - val_loss: 0.2060 - val_accuracy: 0.9883\n",
            "Epoch 6/40\n",
            "469/469 [==============================] - 36s 78ms/step - loss: 0.1981 - accuracy: 0.9908 - val_loss: 0.2066 - val_accuracy: 0.9871\n",
            "Epoch 7/40\n",
            "469/469 [==============================] - 36s 76ms/step - loss: 0.1874 - accuracy: 0.9924 - val_loss: 0.1941 - val_accuracy: 0.9886\n",
            "Epoch 8/40\n",
            "469/469 [==============================] - 38s 81ms/step - loss: 0.1798 - accuracy: 0.9929 - val_loss: 0.1854 - val_accuracy: 0.9897\n",
            "Epoch 9/40\n",
            "469/469 [==============================] - 37s 80ms/step - loss: 0.1700 - accuracy: 0.9948 - val_loss: 0.1867 - val_accuracy: 0.9876\n",
            "Epoch 10/40\n",
            "469/469 [==============================] - 37s 78ms/step - loss: 0.1633 - accuracy: 0.9952 - val_loss: 0.1755 - val_accuracy: 0.9899\n",
            "Epoch 11/40\n",
            "469/469 [==============================] - 38s 80ms/step - loss: 0.1563 - accuracy: 0.9958 - val_loss: 0.1738 - val_accuracy: 0.9888\n",
            "Epoch 12/40\n",
            "469/469 [==============================] - 36s 77ms/step - loss: 0.1504 - accuracy: 0.9965 - val_loss: 0.1681 - val_accuracy: 0.9898\n",
            "Epoch 13/40\n",
            "469/469 [==============================] - 37s 79ms/step - loss: 0.1432 - accuracy: 0.9973 - val_loss: 0.1687 - val_accuracy: 0.9879\n",
            "Epoch 14/40\n",
            "469/469 [==============================] - 36s 78ms/step - loss: 0.1369 - accuracy: 0.9979 - val_loss: 0.1576 - val_accuracy: 0.9902\n",
            "Epoch 15/40\n",
            "469/469 [==============================] - 37s 79ms/step - loss: 0.1333 - accuracy: 0.9977 - val_loss: 0.1533 - val_accuracy: 0.9901\n",
            "Epoch 16/40\n",
            "469/469 [==============================] - 38s 80ms/step - loss: 0.1272 - accuracy: 0.9983 - val_loss: 0.1535 - val_accuracy: 0.9890\n",
            "Epoch 17/40\n",
            "469/469 [==============================] - 38s 81ms/step - loss: 0.1229 - accuracy: 0.9982 - val_loss: 0.1397 - val_accuracy: 0.9922\n",
            "Epoch 18/40\n",
            "469/469 [==============================] - 37s 80ms/step - loss: 0.1186 - accuracy: 0.9985 - val_loss: 0.1401 - val_accuracy: 0.9911\n",
            "Epoch 19/40\n",
            "469/469 [==============================] - 37s 78ms/step - loss: 0.1139 - accuracy: 0.9987 - val_loss: 0.1935 - val_accuracy: 0.9776\n",
            "Epoch 20/40\n",
            "469/469 [==============================] - 37s 78ms/step - loss: 0.1091 - accuracy: 0.9992 - val_loss: 0.1333 - val_accuracy: 0.9916\n",
            "Epoch 21/40\n",
            "469/469 [==============================] - 42s 89ms/step - loss: 0.1054 - accuracy: 0.9991 - val_loss: 0.1272 - val_accuracy: 0.9910\n",
            "Epoch 22/40\n",
            "469/469 [==============================] - 40s 85ms/step - loss: 0.1081 - accuracy: 0.9981 - val_loss: 0.5651 - val_accuracy: 0.8887\n",
            "Epoch 23/40\n",
            "469/469 [==============================] - 37s 80ms/step - loss: 0.1068 - accuracy: 0.9967 - val_loss: 0.1207 - val_accuracy: 0.9916\n",
            "Epoch 24/40\n",
            "469/469 [==============================] - 37s 78ms/step - loss: 0.0958 - accuracy: 0.9993 - val_loss: 0.1214 - val_accuracy: 0.9908\n",
            "Epoch 25/40\n",
            "469/469 [==============================] - 38s 82ms/step - loss: 0.0918 - accuracy: 0.9996 - val_loss: 0.1160 - val_accuracy: 0.9920\n",
            "Epoch 26/40\n",
            "469/469 [==============================] - 37s 80ms/step - loss: 0.0882 - accuracy: 0.9996 - val_loss: 0.1105 - val_accuracy: 0.9925\n",
            "Epoch 27/40\n",
            "469/469 [==============================] - 36s 78ms/step - loss: 0.0845 - accuracy: 0.9998 - val_loss: 0.1084 - val_accuracy: 0.9923\n",
            "Epoch 28/40\n",
            "469/469 [==============================] - 37s 79ms/step - loss: 0.0817 - accuracy: 0.9998 - val_loss: 0.1049 - val_accuracy: 0.9929\n",
            "Epoch 29/40\n",
            "469/469 [==============================] - 38s 80ms/step - loss: 0.0788 - accuracy: 0.9998 - val_loss: 0.1029 - val_accuracy: 0.9925\n",
            "Epoch 30/40\n",
            "469/469 [==============================] - 37s 79ms/step - loss: 0.0758 - accuracy: 0.9999 - val_loss: 0.1016 - val_accuracy: 0.9923\n",
            "Epoch 31/40\n",
            "469/469 [==============================] - 39s 83ms/step - loss: 0.0731 - accuracy: 0.9999 - val_loss: 0.0974 - val_accuracy: 0.9922\n",
            "Epoch 32/40\n",
            "469/469 [==============================] - 36s 77ms/step - loss: 0.0706 - accuracy: 0.9999 - val_loss: 0.1040 - val_accuracy: 0.9897\n",
            "Epoch 33/40\n",
            "469/469 [==============================] - 37s 79ms/step - loss: 0.3132 - accuracy: 0.9432 - val_loss: 0.1476 - val_accuracy: 0.9768\n",
            "Epoch 34/40\n",
            "469/469 [==============================] - 37s 79ms/step - loss: 0.1282 - accuracy: 0.9830 - val_loss: 0.1268 - val_accuracy: 0.9832\n",
            "Epoch 35/40\n",
            "469/469 [==============================] - 36s 78ms/step - loss: 0.1117 - accuracy: 0.9877 - val_loss: 0.1094 - val_accuracy: 0.9871\n",
            "Epoch 36/40\n",
            "469/469 [==============================] - 35s 75ms/step - loss: 0.1005 - accuracy: 0.9905 - val_loss: 0.1084 - val_accuracy: 0.9865\n",
            "Epoch 37/40\n",
            "469/469 [==============================] - 35s 75ms/step - loss: 0.0918 - accuracy: 0.9926 - val_loss: 0.1029 - val_accuracy: 0.9886\n",
            "Epoch 38/40\n",
            "469/469 [==============================] - 35s 75ms/step - loss: 0.0863 - accuracy: 0.9937 - val_loss: 0.0983 - val_accuracy: 0.9893\n",
            "Epoch 39/40\n",
            "469/469 [==============================] - 36s 77ms/step - loss: 0.0812 - accuracy: 0.9950 - val_loss: 0.0943 - val_accuracy: 0.9897\n",
            "Epoch 40/40\n",
            "469/469 [==============================] - 36s 77ms/step - loss: 0.0751 - accuracy: 0.9969 - val_loss: 0.0996 - val_accuracy: 0.9878\n",
            "313/313 [==============================] - 2s 6ms/step - loss: 0.0996 - accuracy: 0.9878\n",
            "Test loss 3a: 0.09959817677736282, Test accuracy 3a: 0.9878000020980835\n",
            "0.0002\n"
          ],
          "name": "stdout"
        }
      ]
    },
    {
      "cell_type": "code",
      "metadata": {
        "id": "1zHvRdfkD-EN",
        "outputId": "25ecda8c-86de-4342-bdc5-5708c6a8d13a"
      },
      "source": [
        "results3"
      ],
      "execution_count": null,
      "outputs": [
        {
          "output_type": "execute_result",
          "data": {
            "text/plain": [
              "[[0.9878000020980835, 0.0002, 2]]"
            ]
          },
          "metadata": {
            "tags": []
          },
          "execution_count": 12
        }
      ]
    },
    {
      "cell_type": "markdown",
      "metadata": {
        "id": "hRxw_O8wD-EN"
      },
      "source": [
        "**Comment:** We get an accuracy of ~0.988 in our CNN. This is not 0.99. To achieve a higher accuracy we tried switching to the 'Adam' optimizer but this did not work. "
      ]
    },
    {
      "cell_type": "markdown",
      "metadata": {
        "id": "x4xDvzgGD-EN"
      },
      "source": [
        "### Answer to question 3 b: Discuss the differences and potential benefits of using convolutional layers over fully connected ones for the particular application."
      ]
    },
    {
      "cell_type": "markdown",
      "metadata": {
        "id": "QNhKEzXQD-EO"
      },
      "source": [
        "Convolutional neural networks take the images in its 28x28 format as inputs while the networks from question 2 c and 2 d are fully connected layers that transform the image into a vector before training the model. Our data are images of handwritten digits (in our case 2-dimensional arrays) so adding one or more convolutional layers before the fully connected layers may capture patterns that the fully connected networks may not. In addition, a fully connected layer may run the risk of overfitting, while a convolutional layer adds a filter to the image. \n"
      ]
    },
    {
      "cell_type": "markdown",
      "metadata": {
        "id": "0I2Bkk_rhUnH"
      },
      "source": [
        "### Question 4) Auto-Encoder for denoising\n"
      ]
    },
    {
      "cell_type": "markdown",
      "metadata": {
        "id": "1n7IszswD-EO"
      },
      "source": [
        "### Answer to question 4 a: \n",
        "\n",
        "* The notebook implements a simple denoising deep autoencoder model. Explain what the model does: use the data-preparation and model-definition code to explain how the goal of the model is achieved.\n",
        "\n",
        "x_train is the 28x28 image so when we use x_train.reshape(-1,784) we turn the image into a 1x784 vector and the result is in flattened_x_train. To \"season\" the vector with noise, we apply the salt_and_pepper() function defined below. The result is flattened_x_train_seasoned which is the image vector with noise. The same is done for the test data x_test.\n",
        "\n",
        "Moving on to the model, it is an autoencoder. The model consists of an encoder and a decoder. The encoder consists of two fully connected layers with ReLU activation functions. The first layer consists of 128 neurons which is then mapped to a layer with fewer neurons (96). Then, the decoder layers maps the encoder layer back to its original dimensions (28*28=784).\n",
        "\n",
        "* Explain the role of the loss function.\n",
        "\n",
        "The binary cross-entropy loss computes the cross-entropy loss between true labels and predicted labels. This is used when there are only two label classes. "
      ]
    },
    {
      "cell_type": "code",
      "metadata": {
        "colab": {
          "base_uri": "https://localhost:8080/",
          "height": 33
        },
        "id": "RRY-N-ZSD-EO",
        "outputId": "ca9b9b49-a7ab-4d8f-b6e2-99d318fb0d41"
      },
      "source": [
        "# Draw a diagram and include it in the report\n",
        "from IPython.display import Image\n",
        "Image(\"image.jpg\")"
      ],
      "execution_count": null,
      "outputs": [
        {
          "output_type": "execute_result",
          "data": {
            "image/png": "image.jpg",
            "text/plain": [
              "<IPython.core.display.Image object>"
            ]
          },
          "metadata": {
            "tags": []
          },
          "execution_count": 9
        }
      ]
    },
    {
      "cell_type": "code",
      "metadata": {
        "id": "yO0HxKeJ7WFw"
      },
      "source": [
        "import numpy as np\n",
        "def salt_and_pepper(input, noise_level=0.5):\n",
        "    \"\"\"\n",
        "    This applies salt and pepper noise to the input tensor - randomly setting bits to 1 or 0.\n",
        "    Parameters\n",
        "    ----------\n",
        "    input : tensor\n",
        "        The tensor to apply salt and pepper noise to.\n",
        "    noise_level : float\n",
        "        The amount of salt and pepper noise to add.\n",
        "    Returns\n",
        "    -------\n",
        "    tensor\n",
        "        Tensor with salt and pepper noise applied.\n",
        "    \"\"\"\n",
        "    # salt and pepper noise\n",
        "    a = np.random.binomial(size=input.shape, n=1, p=(1 - noise_level))\n",
        "    b = np.random.binomial(size=input.shape, n=1, p=0.5)\n",
        "    c = (a==0) * b\n",
        "    return input * a + c\n",
        "\n",
        "\n",
        "#data preparation\n",
        "flattened_x_train = x_train.reshape(-1,784)\n",
        "flattened_x_train_seasoned = salt_and_pepper(flattened_x_train, noise_level=0.4)\n",
        "\n",
        "flattened_x_test = x_test.reshape(-1,784)\n",
        "flattened_x_test_seasoneed = salt_and_pepper(flattened_x_test, noise_level=0.4)\n"
      ],
      "execution_count": null,
      "outputs": []
    },
    {
      "cell_type": "markdown",
      "metadata": {
        "id": "zcm-eLUcD-EP"
      },
      "source": [
        "* Train the model with the settings given."
      ]
    },
    {
      "cell_type": "code",
      "metadata": {
        "id": "0GZtZH4ScQeN"
      },
      "source": [
        "\n",
        "latent_dim = 96  \n",
        "\n",
        "input_image = keras.Input(shape=(784,))\n",
        "encoded = Dense(128, activation='relu')(input_image)\n",
        "encoded = Dense(latent_dim, activation='relu')(encoded)\n",
        "decoded = Dense(128, activation='relu')(encoded)\n",
        "decoded = Dense(784, activation='sigmoid')(decoded)\n",
        "\n",
        "autoencoder = keras.Model(input_image, decoded)\n",
        "encoder_only = keras.Model(input_image, encoded)\n",
        "\n",
        "encoded_input = keras.Input(shape=(latent_dim,))\n",
        "decoder_layer = Sequential(autoencoder.layers[-2:])\n",
        "decoder = keras.Model(encoded_input, decoder_layer(encoded_input))\n",
        "\n",
        "autoencoder.compile(optimizer='adam', loss='binary_crossentropy')"
      ],
      "execution_count": null,
      "outputs": []
    },
    {
      "cell_type": "code",
      "metadata": {
        "id": "56iJOKNIKfuB",
        "outputId": "d4cbb70f-e881-4c6a-d479-b60a72f44e0d"
      },
      "source": [
        "fit_info_AE = autoencoder.fit(flattened_x_train_seasoned, flattened_x_train,\n",
        "                epochs=32,\n",
        "                batch_size=64,\n",
        "                shuffle=True,\n",
        "                validation_data=(flattened_x_test_seasoneed, flattened_x_test))\n"
      ],
      "execution_count": null,
      "outputs": [
        {
          "output_type": "stream",
          "text": [
            "Epoch 1/32\n",
            "938/938 [==============================] - 2s 2ms/step - loss: 0.1914 - val_loss: 0.1537\n",
            "Epoch 2/32\n",
            "938/938 [==============================] - 2s 2ms/step - loss: 0.1471 - val_loss: 0.1397\n",
            "Epoch 3/32\n",
            "938/938 [==============================] - 2s 2ms/step - loss: 0.1368 - val_loss: 0.1332\n",
            "Epoch 4/32\n",
            "938/938 [==============================] - 2s 2ms/step - loss: 0.1316 - val_loss: 0.1291\n",
            "Epoch 5/32\n",
            "938/938 [==============================] - 2s 2ms/step - loss: 0.1284 - val_loss: 0.1289\n",
            "Epoch 6/32\n",
            "938/938 [==============================] - 2s 2ms/step - loss: 0.1263 - val_loss: 0.1259\n",
            "Epoch 7/32\n",
            "938/938 [==============================] - 2s 2ms/step - loss: 0.1247 - val_loss: 0.1256\n",
            "Epoch 8/32\n",
            "938/938 [==============================] - 2s 2ms/step - loss: 0.1233 - val_loss: 0.1247\n",
            "Epoch 9/32\n",
            "938/938 [==============================] - 2s 2ms/step - loss: 0.1222 - val_loss: 0.1238\n",
            "Epoch 10/32\n",
            "938/938 [==============================] - 3s 3ms/step - loss: 0.1212 - val_loss: 0.1249\n",
            "Epoch 11/32\n",
            "938/938 [==============================] - 3s 3ms/step - loss: 0.1204 - val_loss: 0.1221\n",
            "Epoch 12/32\n",
            "938/938 [==============================] - 3s 3ms/step - loss: 0.1198 - val_loss: 0.1214\n",
            "Epoch 13/32\n",
            "938/938 [==============================] - 3s 3ms/step - loss: 0.1192 - val_loss: 0.1212\n",
            "Epoch 14/32\n",
            "938/938 [==============================] - 3s 3ms/step - loss: 0.1187 - val_loss: 0.1211\n",
            "Epoch 15/32\n",
            "938/938 [==============================] - 3s 3ms/step - loss: 0.1182 - val_loss: 0.1213\n",
            "Epoch 16/32\n",
            "938/938 [==============================] - 3s 3ms/step - loss: 0.1179 - val_loss: 0.1208\n",
            "Epoch 17/32\n",
            "938/938 [==============================] - 3s 3ms/step - loss: 0.1175 - val_loss: 0.1206\n",
            "Epoch 18/32\n",
            "938/938 [==============================] - 3s 3ms/step - loss: 0.1172 - val_loss: 0.1201\n",
            "Epoch 19/32\n",
            "938/938 [==============================] - 3s 3ms/step - loss: 0.1169 - val_loss: 0.1206\n",
            "Epoch 20/32\n",
            "938/938 [==============================] - 3s 3ms/step - loss: 0.1166 - val_loss: 0.1201\n",
            "Epoch 21/32\n",
            "938/938 [==============================] - 3s 3ms/step - loss: 0.1163 - val_loss: 0.1205\n",
            "Epoch 22/32\n",
            "938/938 [==============================] - 3s 3ms/step - loss: 0.1161 - val_loss: 0.1202\n",
            "Epoch 23/32\n",
            "938/938 [==============================] - 3s 3ms/step - loss: 0.1159 - val_loss: 0.1203\n",
            "Epoch 24/32\n",
            "938/938 [==============================] - 3s 3ms/step - loss: 0.1157 - val_loss: 0.1199\n",
            "Epoch 25/32\n",
            "938/938 [==============================] - 3s 3ms/step - loss: 0.1155 - val_loss: 0.1199\n",
            "Epoch 26/32\n",
            "938/938 [==============================] - 3s 3ms/step - loss: 0.1152 - val_loss: 0.1196\n",
            "Epoch 27/32\n",
            "938/938 [==============================] - 3s 3ms/step - loss: 0.1151 - val_loss: 0.1199\n",
            "Epoch 28/32\n",
            "938/938 [==============================] - 3s 3ms/step - loss: 0.1150 - val_loss: 0.1195\n",
            "Epoch 29/32\n",
            "938/938 [==============================] - 3s 3ms/step - loss: 0.1148 - val_loss: 0.1195\n",
            "Epoch 30/32\n",
            "938/938 [==============================] - 3s 3ms/step - loss: 0.1147 - val_loss: 0.1196\n",
            "Epoch 31/32\n",
            "938/938 [==============================] - 3s 3ms/step - loss: 0.1146 - val_loss: 0.1197\n",
            "Epoch 32/32\n",
            "938/938 [==============================] - 3s 3ms/step - loss: 0.1144 - val_loss: 0.1198\n"
          ],
          "name": "stdout"
        }
      ]
    },
    {
      "cell_type": "markdown",
      "metadata": {
        "id": "0Mr8NGwJ95Sf"
      },
      "source": [
        "### Answer to question 4 b: \n",
        "Add increasing levels of noise to the test-set using the salt_and_pepper()-function. Use matplotlib to visualize a few examples (0.5,0.6,0.7,0.8). Use matplotlib to visualize the examples in the original and the \"seasoned\" version. Use the trained autoencoder to denoise the noisy digits. \n",
        "\n",
        "* At what noise level does it become difficult to identify the digits? \n",
        "\n",
        "* At what noise level does the denoising stop working?"
      ]
    },
    {
      "cell_type": "markdown",
      "metadata": {
        "id": "JjNFgto1D-EQ"
      },
      "source": [
        "**Explanation of the noiselevel_seasoned list:**\n",
        "There are 10000 images in the test set, we now have 40000 images in the noiselevel_seasoned dataset.\n"
      ]
    },
    {
      "cell_type": "code",
      "metadata": {
        "id": "eZAZDuz8D-EQ"
      },
      "source": [
        "# Seasoning the images\n",
        "noiselevel_seasoned=[]\n",
        "\n",
        "for i in [0.5,0.6,0.7,0.8]:\n",
        "    noiselevel_seasoned.extend(salt_and_pepper(flattened_x_test, noise_level=i))\n",
        "\n",
        "# \n",
        "#vis1=noiselevel_seasoned[1].reshape(28,28)\n",
        "#plt.imshow(vis1)"
      ],
      "execution_count": null,
      "outputs": []
    },
    {
      "cell_type": "code",
      "metadata": {
        "id": "4k-kwdxUD-ER",
        "outputId": "9b2ba4f4-4df3-4348-8202-a18db19be667"
      },
      "source": [
        "import numpy as np\n",
        "list3=np.array(noiselevel_seasoned)\n",
        "list3.shape\n",
        "\n",
        "vis1=noiselevel_seasoned[0].reshape(28,28)\n",
        "vis2=noiselevel_seasoned[10000].reshape(28,28)\n",
        "vis3=noiselevel_seasoned[20000].reshape(28,28)\n",
        "vis4=noiselevel_seasoned[30000].reshape(28,28)\n",
        "\n",
        "fig=plt.figure(figsize=(2,2))\n",
        "fig.add_subplot(2,2,1)\n",
        "plt.imshow(vis1)\n",
        "fig.add_subplot(2,2,2)\n",
        "plt.imshow(vis2)\n",
        "fig.add_subplot(2,2,3)\n",
        "plt.imshow(vis3)\n",
        "fig.add_subplot(2,2,4)\n",
        "plt.imshow(vis4)"
      ],
      "execution_count": null,
      "outputs": [
        {
          "output_type": "execute_result",
          "data": {
            "text/plain": [
              "<matplotlib.image.AxesImage at 0x29808a8aa90>"
            ]
          },
          "metadata": {
            "tags": []
          },
          "execution_count": 18
        },
        {
          "output_type": "display_data",
          "data": {
            "image/png": "[encoded data removed]",
            "text/plain": [
              "<Figure size 144x144 with 4 Axes>"
            ]
          },
          "metadata": {
            "tags": [],
            "needs_background": "light"
          }
        }
      ]
    },
    {
      "cell_type": "markdown",
      "metadata": {
        "id": "VSwocANMD-ER"
      },
      "source": [
        "**Comment:** In the first two rows (corresponding to noise levels 0.5 and 0.6) it is still possible to distinguish the number 7. In the bottom two rows it is very difficult (for noise level 0.7 and 0.8)."
      ]
    },
    {
      "cell_type": "code",
      "metadata": {
        "id": "ftAnLdS8D-ER"
      },
      "source": [
        "def visualize(index,encoder,decoder):\n",
        "    \"\"\"Draws original, encoded and decoded images\"\"\"\n",
        "    \n",
        "    img = flattened_x_train_seasoned[index]\n",
        "    og_img = x_train[index] \n",
        "    code = encoder.predict(img[None])[0]\n",
        "    reco = decoder.predict(code[None])[0]\n",
        "\n",
        "    #visualizaiton few examples\n",
        "    plt.subplot(1,3,1)\n",
        "    plt.title(\"Original\")\n",
        "    plt.imshow(np.reshape(og_img, (28,28)), cmap='gray')\n",
        "    \n",
        "    plt.subplot(1,3,2)\n",
        "    plt.title(\"Noisy\")\n",
        "    plt.imshow(np.reshape(img, (28,28)), cmap='gray')\n",
        "\n",
        "    plt.subplot(1,3,3)\n",
        "    plt.title(\"Reconstructed\")\n",
        "    plt.imshow(np.reshape(reco, (28,28)), cmap='gray')\n",
        "    plt.show()\n",
        "\n",
        "def reconstruct_images(encoder, decoder):\n",
        "    reconstruct = []\n",
        "    for i, img in enumerate(flattened_x_train_seasoned):\n",
        "        if i % 500 == 0:\n",
        "            print(i)\n",
        "        \n",
        "        code = encoder.predict(img[None])[0]\n",
        "        recos.append(decoder.predict(code[None])[0])\n",
        "    \n",
        "    return reconstruct\n",
        "\n",
        "\n",
        "def reconstruct_test_images(encoder, decoder):\n",
        "    recostruct = []\n",
        "    for i, img in enumerate(flattened_x_test_seasoneed):\n",
        "        if i % 500 == 0:\n",
        "            print(i)\n",
        "        \n",
        "        code = encoder.predict(img[None])[0]\n",
        "        recos.append(decoder.predict(code[None])[0])\n",
        "    \n",
        "    return recostruct\n",
        "\n",
        "\n"
      ],
      "execution_count": null,
      "outputs": []
    },
    {
      "cell_type": "code",
      "metadata": {
        "id": "v9jTS8XTD-ER",
        "outputId": "724193c5-efa0-48da-f8e7-81ca646a85c5"
      },
      "source": [
        "visualize(0, encoder_only, decoder)\n",
        "\n",
        "x = 0.1\n",
        "\n",
        "while x <= 1:\n",
        "    if x != 0:\n",
        "        flattened_x_train_seasoned = salt_and_pepper(flattened_x_train, noise_level=x)\n",
        "        flattened_x_test_seasoneed = salt_and_pepper(flattened_x_test, noise_level=x)\n",
        "        print(\"Noise level:\", str(x))\n",
        "        visualize(0, encoder_only, decoder)\n",
        "    x+=0.1"
      ],
      "execution_count": null,
      "outputs": [
        {
          "output_type": "display_data",
          "data": {
            "image/png": "[encoded data removed]",
            "text/plain": [
              "<Figure size 432x288 with 3 Axes>"
            ]
          },
          "metadata": {
            "tags": [],
            "needs_background": "light"
          }
        },
        {
          "output_type": "stream",
          "text": [
            "Noise level: 0.1\n"
          ],
          "name": "stdout"
        },
        {
          "output_type": "display_data",
          "data": {
            "image/png": "[encoded data removed]",
            "text/plain": [
              "<Figure size 432x288 with 3 Axes>"
            ]
          },
          "metadata": {
            "tags": [],
            "needs_background": "light"
          }
        },
        {
          "output_type": "stream",
          "text": [
            "Noise level: 0.2\n"
          ],
          "name": "stdout"
        },
        {
          "output_type": "display_data",
          "data": {
            "image/png": "[encoded data removed]",
            "text/plain": [
              "<Figure size 432x288 with 3 Axes>"
            ]
          },
          "metadata": {
            "tags": [],
            "needs_background": "light"
          }
        },
        {
          "output_type": "stream",
          "text": [
            "Noise level: 0.30000000000000004\n"
          ],
          "name": "stdout"
        },
        {
          "output_type": "display_data",
          "data": {
            "image/png": "[encoded data removed]",
            "text/plain": [
              "<Figure size 432x288 with 3 Axes>"
            ]
          },
          "metadata": {
            "tags": [],
            "needs_background": "light"
          }
        },
        {
          "output_type": "stream",
          "text": [
            "Noise level: 0.4\n"
          ],
          "name": "stdout"
        },
        {
          "output_type": "display_data",
          "data": {
            "image/png": "[encoded data removed]",
            "text/plain": [
              "<Figure size 432x288 with 3 Axes>"
            ]
          },
          "metadata": {
            "tags": [],
            "needs_background": "light"
          }
        },
        {
          "output_type": "stream",
          "text": [
            "Noise level: 0.5\n"
          ],
          "name": "stdout"
        },
        {
          "output_type": "display_data",
          "data": {
            "image/png": "[encoded data removed]",
            "text/plain": [
              "<Figure size 432x288 with 3 Axes>"
            ]
          },
          "metadata": {
            "tags": [],
            "needs_background": "light"
          }
        },
        {
          "output_type": "stream",
          "text": [
            "Noise level: 0.6\n"
          ],
          "name": "stdout"
        },
        {
          "output_type": "display_data",
          "data": {
            "image/png": "[encoded data removed]",
            "text/plain": [
              "<Figure size 432x288 with 3 Axes>"
            ]
          },
          "metadata": {
            "tags": [],
            "needs_background": "light"
          }
        },
        {
          "output_type": "stream",
          "text": [
            "Noise level: 0.7\n"
          ],
          "name": "stdout"
        },
        {
          "output_type": "display_data",
          "data": {
            "image/png": "[encoded data removed]",
            "text/plain": [
              "<Figure size 432x288 with 3 Axes>"
            ]
          },
          "metadata": {
            "tags": [],
            "needs_background": "light"
          }
        },
        {
          "output_type": "stream",
          "text": [
            "Noise level: 0.7999999999999999\n"
          ],
          "name": "stdout"
        },
        {
          "output_type": "display_data",
          "data": {
            "image/png": "[encoded data removed]",
            "text/plain": [
              "<Figure size 432x288 with 3 Axes>"
            ]
          },
          "metadata": {
            "tags": [],
            "needs_background": "light"
          }
        },
        {
          "output_type": "stream",
          "text": [
            "Noise level: 0.8999999999999999\n"
          ],
          "name": "stdout"
        },
        {
          "output_type": "display_data",
          "data": {
            "image/png": "[encoded data removed]",
            "text/plain": [
              "<Figure size 432x288 with 3 Axes>"
            ]
          },
          "metadata": {
            "tags": [],
            "needs_background": "light"
          }
        },
        {
          "output_type": "stream",
          "text": [
            "Noise level: 0.9999999999999999\n"
          ],
          "name": "stdout"
        },
        {
          "output_type": "display_data",
          "data": {
            "image/png": "[encoded data removed]",
            "text/plain": [
              "<Figure size 432x288 with 3 Axes>"
            ]
          },
          "metadata": {
            "tags": [],
            "needs_background": "light"
          }
        }
      ]
    },
    {
      "cell_type": "markdown",
      "metadata": {
        "id": "2IBs0d0mD-ES"
      },
      "source": [
        "**Comment:** \n",
        "\n",
        "* At what noise level does it become difficult to identify the digits? \n",
        "\n",
        "From the noise level around 0.7, it becomes difficult to identify the digits.\n",
        "\n",
        "* At what noise level does the denoising stop working?\n",
        "\n",
        "From the noise level 0.8. "
      ]
    },
    {
      "cell_type": "markdown",
      "metadata": {
        "id": "-iGpBj_vD-ES"
      },
      "source": [
        "### Answer to question 4 c:\n",
        "Test whether denoising improves classification with the best performing model obtained in questions 2 or 3. Plot the true-positive rate as a function of noise level for the seasoned and denoised datasets - assume that the correct classification is the most likely class-label. Discuss your results."
      ]
    },
    {
      "cell_type": "markdown",
      "metadata": {
        "id": "yY0IrtxRD-ES"
      },
      "source": [
        "**Predicting classes for the two datasets**"
      ]
    },
    {
      "cell_type": "code",
      "metadata": {
        "id": "ocV8umfhD-ET"
      },
      "source": [
        "# list3 are the seasoned images, we reshape this list for the input\n",
        "list_4c=np.array([list3[i].reshape(28,28,1) for i in range(len(list3))])\n",
        "list_4c.shape\n",
        "\n",
        "# # # Classify noisy images\n",
        "noisy_predictions=model3.predict_classes(list_4c)\n",
        "\n",
        "# # # Classify denoised images - DID NOT WORK\n",
        "#denoised_images=autoencoder(list3)\n",
        "#denoised_images=np.array([tf.reshape(denoised_images[i],[28,28]) for i in range(len(denoised_images))])\n",
        "#denoised_predictions=model3.predict_classes(denoised_images)"
      ],
      "execution_count": null,
      "outputs": []
    },
    {
      "cell_type": "markdown",
      "metadata": {
        "id": "TBJXqrX0D-ET"
      },
      "source": [
        "**Function for counting true positives in the confusion matrix**"
      ]
    },
    {
      "cell_type": "code",
      "metadata": {
        "id": "6BhgZY8gD-ET"
      },
      "source": [
        "from sklearn.metrics import confusion_matrix\n",
        "\n",
        "def count_TP(y_true, y_pred):\n",
        "    # returns the index of the True value\n",
        "    y_trueconv=[np.argmax(y_true[i]) for i in range(len(y_true))]\n",
        "    confmat=confusion_matrix(y_trueconv, y_pred)\n",
        "    \n",
        "    # sums the diagonals (the true positives)\n",
        "    return sum(np.diag(confmat))"
      ],
      "execution_count": null,
      "outputs": []
    },
    {
      "cell_type": "markdown",
      "metadata": {
        "id": "XS4UvFXsD-ET"
      },
      "source": [
        "**The plot of true-positive rate as a function of noise level**"
      ]
    },
    {
      "cell_type": "code",
      "metadata": {
        "id": "QFN0HYtzD-EU",
        "outputId": "f83edd9c-6006-4a7c-be0b-6e2188b736f9"
      },
      "source": [
        "# TP for the seasoned images\n",
        "noise0_5=count_TP(y_test, noisy_predictions[0:10000])\n",
        "noise0_6=count_TP(y_test, noisy_predictions[10000:20000])\n",
        "noise0_7=count_TP(y_test, noisy_predictions[20000:30000])\n",
        "noise0_8=count_TP(y_test, noisy_predictions[30000:40000])\n",
        "\n",
        "#denoised0_5=count_TP(y_test, denoised_predictions[0:10000])\n",
        "#denoised0_6=count_TP(y_test, denoised_predictions[10000:20000])\n",
        "#denoised0_7=count_TP(y_test, denoised_predictions[20000:30000])\n",
        "#denoised0_8=count_TP(y_test, denoised_predictions[30000:40000])\n",
        "\n",
        "TP_list_seasoned=[noise0_5/10000,noise0_6/10000,noise0_7/10000,noise0_8/10000]\n",
        "#TP_list_denoised=[denoised0_5,denoised0_6,denoised0_7,denoised0_8]\n",
        "noise_list=[0.5 ,0.6 ,0.7 ,0.8]\n",
        "\n",
        "\n",
        "\n",
        "plt.plot(noise_list,TP_list_seasoned,  label='Seasoned, not denoised')\n",
        "#plt.plot(TP_list_denoised, noise_list, label='Seasoned, denoised', c='b')\n",
        "plt.legend()"
      ],
      "execution_count": null,
      "outputs": [
        {
          "output_type": "execute_result",
          "data": {
            "text/plain": [
              "<matplotlib.legend.Legend at 0x29823ecabe0>"
            ]
          },
          "metadata": {
            "tags": []
          },
          "execution_count": 129
        },
        {
          "output_type": "display_data",
          "data": {
            "image/png": "[encoded data removed]",
            "text/plain": [
              "<Figure size 432x288 with 1 Axes>"
            ]
          },
          "metadata": {
            "tags": [],
            "needs_background": "light"
          }
        }
      ]
    },
    {
      "cell_type": "code",
      "metadata": {
        "id": "-KQkyw7ID-EU",
        "outputId": "904f15f1-6d06-4243-f291-6eb4fa9a470c"
      },
      "source": [
        "# True positive values\n",
        "TP_list_seasoned"
      ],
      "execution_count": null,
      "outputs": [
        {
          "output_type": "execute_result",
          "data": {
            "text/plain": [
              "[4786, 3237, 2157, 1431]"
            ]
          },
          "metadata": {
            "tags": []
          },
          "execution_count": 127
        }
      ]
    },
    {
      "cell_type": "markdown",
      "metadata": {
        "id": "SLViXE8gD-EU"
      },
      "source": [
        "**Discuss the results of 4 C:** Unfortunately we did not get the denoised predictions to work. But for the seasoned images which are not denoised \n",
        "\n"
      ]
    }
  ]
}